{
 "cells": [
  {
   "cell_type": "code",
   "execution_count": null,
   "metadata": {},
   "outputs": [],
   "source": [
    "import pandas as pd\n",
    "data = pd.read_csv('OnlineRetail.csv',encoding='ISO-8859-1')\n",
    "data.head()"
   ]
  },
  {
   "cell_type": "code",
   "execution_count": null,
   "metadata": {},
   "outputs": [],
   "source": [
    "data.info()"
   ]
  },
  {
   "cell_type": "code",
   "execution_count": null,
   "metadata": {},
   "outputs": [],
   "source": [
    "# Amount of country:\n",
    "country = data.Country.unique()\n",
    "print(f'Amount of contry:{str(country.size)}')"
   ]
  },
  {
   "cell_type": "code",
   "execution_count": null,
   "metadata": {},
   "outputs": [],
   "source": [
    "data['total'] = data['Quantity'] * data['UnitPrice']\n",
    "total_invoices =data['total'].sum()\n",
    "print(total_invoices.size)\n",
    "print(f'A mount of invoice: {str(total_invoices.size)}')\n",
    "print(f'Total of return: {str(total_invoices.sum())}')"
   ]
  },
  {
   "cell_type": "code",
   "execution_count": null,
   "metadata": {},
   "outputs": [],
   "source": [
    "quantity_product = data.groupby(['StockCode','Description'])['Quantity'].sum().sort_values(ascending=False)\n",
    "quantity_product.head(10)\n"
   ]
  }
 ],
 "metadata": {
  "kernelspec": {
   "display_name": "Python 3.9.12 ('base')",
   "language": "python",
   "name": "python3"
  },
  "language_info": {
   "codemirror_mode": {
    "name": "ipython",
    "version": 3
   },
   "file_extension": ".py",
   "mimetype": "text/x-python",
   "name": "python",
   "nbconvert_exporter": "python",
   "pygments_lexer": "ipython3",
   "version": "3.9.12"
  },
  "orig_nbformat": 4,
  "vscode": {
   "interpreter": {
    "hash": "7dd536cc89eef5c7a9b92541a5f7cb8a274fc7ce7c4588e66f683d4cac53552c"
   }
  }
 },
 "nbformat": 4,
 "nbformat_minor": 2
}
