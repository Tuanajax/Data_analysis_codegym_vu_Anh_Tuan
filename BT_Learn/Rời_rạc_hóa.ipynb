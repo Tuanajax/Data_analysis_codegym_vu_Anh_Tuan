{
 "cells": [
  {
   "cell_type": "code",
   "execution_count": 1,
   "id": "11af4424",
   "metadata": {},
   "outputs": [],
   "source": [
    "import pandas as pd\n",
    "import numpy as np\n"
   ]
  },
  {
   "cell_type": "code",
   "execution_count": 20,
   "id": "a36e442d",
   "metadata": {},
   "outputs": [],
   "source": [
    "ages = [20, 22, 25, 27, 21, 23, 37, 31, 61, 45, 41, 32]\n",
    "bins = [18, 25, 35, 60, 100]\n"
   ]
  },
  {
   "cell_type": "code",
   "execution_count": 6,
   "id": "bfeb149e",
   "metadata": {},
   "outputs": [
    {
     "data": {
      "text/plain": [
       "[(18, 25], (18, 25], (18, 25], (25, 35], (18, 25], ..., (25, 35], (60, 100], (35, 60], (35, 60], (25, 35]]\n",
       "Length: 12\n",
       "Categories (4, interval[int64, right]): [(18, 25] < (25, 35] < (35, 60] < (60, 100]]"
      ]
     },
     "execution_count": 6,
     "metadata": {},
     "output_type": "execute_result"
    }
   ],
   "source": [
    "# Thực hiện rời rạc hóa \n",
    "cats = pd.cut(ages,bins)\n",
    "cats"
   ]
  },
  {
   "cell_type": "code",
   "execution_count": 8,
   "id": "bb6de5f9",
   "metadata": {},
   "outputs": [
    {
     "data": {
      "text/plain": [
       "array([0, 0, 0, 1, 0, 0, 2, 1, 3, 2, 2, 1], dtype=int8)"
      ]
     },
     "execution_count": 8,
     "metadata": {},
     "output_type": "execute_result"
    }
   ],
   "source": [
    "cats.codes"
   ]
  },
  {
   "cell_type": "code",
   "execution_count": 10,
   "id": "290582a7",
   "metadata": {},
   "outputs": [
    {
     "data": {
      "text/plain": [
       "IntervalIndex([(18, 25], (25, 35], (35, 60], (60, 100]], dtype='interval[int64, right]')"
      ]
     },
     "execution_count": 10,
     "metadata": {},
     "output_type": "execute_result"
    }
   ],
   "source": [
    "# lấy các nhóm \n",
    "cats.categories"
   ]
  },
  {
   "cell_type": "code",
   "execution_count": 12,
   "id": "236c9fc9",
   "metadata": {},
   "outputs": [
    {
     "data": {
      "text/plain": [
       "(18, 25]     5\n",
       "(25, 35]     3\n",
       "(35, 60]     3\n",
       "(60, 100]    1\n",
       "dtype: int64"
      ]
     },
     "execution_count": 12,
     "metadata": {},
     "output_type": "execute_result"
    }
   ],
   "source": [
    "# Thống kê phần tử mỗi nhóm\n",
    "pd.value_counts(cats)"
   ]
  },
  {
   "cell_type": "code",
   "execution_count": 14,
   "id": "82f59a46",
   "metadata": {},
   "outputs": [
    {
     "data": {
      "text/plain": [
       "[[18, 26), [18, 26), [18, 26), [26, 36), [18, 26), ..., [26, 36), [61, 100), [36, 61), [36, 61), [26, 36)]\n",
       "Length: 12\n",
       "Categories (4, interval[int64, left]): [[18, 26) < [26, 36) < [36, 61) < [61, 100)]"
      ]
     },
     "execution_count": 14,
     "metadata": {},
     "output_type": "execute_result"
    }
   ],
   "source": [
    "pd.cut(ages,[18,26,36,61,100],right=False)"
   ]
  },
  {
   "cell_type": "code",
   "execution_count": 21,
   "id": "03189eac",
   "metadata": {},
   "outputs": [
    {
     "data": {
      "text/plain": [
       "['Youth', 'Youth', 'Youth', 'YoungAdult', 'Youth', ..., 'YoungAdult', 'Senior', 'MiddleAged', 'MiddleAged', 'YoungAdult']\n",
       "Length: 12\n",
       "Categories (4, object): ['Youth' < 'YoungAdult' < 'MiddleAged' < 'Senior']"
      ]
     },
     "execution_count": 21,
     "metadata": {},
     "output_type": "execute_result"
    }
   ],
   "source": [
    "# Danh sách nhãn\n",
    "group_name = ['Youth','YoungAdult','MiddleAged','Senior']\n",
    "pd.cut(ages, bins,labels=group_name)"
   ]
  },
  {
   "cell_type": "code",
   "execution_count": 23,
   "id": "1d0074a3",
   "metadata": {},
   "outputs": [
    {
     "data": {
      "text/plain": [
       "array([0.22576521, 0.13421772, 0.78339999, 0.94185263, 0.89872679,\n",
       "       0.74458165, 0.15633248, 0.540052  , 0.25826354, 0.04658852,\n",
       "       0.89278827, 0.3093069 , 0.91768548, 0.50588629, 0.40189064,\n",
       "       0.0668508 , 0.09369194, 0.91513621, 0.21727096, 0.67522355])"
      ]
     },
     "execution_count": 23,
     "metadata": {},
     "output_type": "execute_result"
    }
   ],
   "source": [
    "# Tạo dữ liệu ngẫu nhiên với 20 phần tử\n",
    "data = np.random.rand(20)\n",
    "data"
   ]
  },
  {
   "cell_type": "code",
   "execution_count": 26,
   "id": "0aa3488d",
   "metadata": {},
   "outputs": [
    {
     "data": {
      "text/plain": [
       "[(0.046, 0.27], (0.046, 0.27], (0.72, 0.94], (0.72, 0.94], (0.72, 0.94], ..., (0.046, 0.27], (0.046, 0.27], (0.72, 0.94], (0.046, 0.27], (0.49, 0.72]]\n",
       "Length: 20\n",
       "Categories (4, interval[float64, right]): [(0.046, 0.27] < (0.27, 0.49] < (0.49, 0.72] < (0.72, 0.94]]"
      ]
     },
     "execution_count": 26,
     "metadata": {},
     "output_type": "execute_result"
    }
   ],
   "source": [
    "cut_data =pd.cut(data,4,precision=2)\n",
    "cut_data"
   ]
  },
  {
   "cell_type": "code",
   "execution_count": 28,
   "id": "69a60bf6",
   "metadata": {},
   "outputs": [
    {
     "data": {
      "text/plain": [
       "(0.046, 0.27]    8\n",
       "(0.72, 0.94]     7\n",
       "(0.49, 0.72]     3\n",
       "(0.27, 0.49]     2\n",
       "dtype: int64"
      ]
     },
     "execution_count": 28,
     "metadata": {},
     "output_type": "execute_result"
    }
   ],
   "source": [
    "pd.value_counts(cut_data)"
   ]
  },
  {
   "cell_type": "code",
   "execution_count": 31,
   "id": "f3552b74",
   "metadata": {},
   "outputs": [],
   "source": [
    "# tạo ngẫu nhiến 1000 dữ liệu\n",
    "dt = np.random.randn(1000)\n"
   ]
  },
  {
   "cell_type": "code",
   "execution_count": 34,
   "id": "5df09016",
   "metadata": {},
   "outputs": [
    {
     "data": {
      "text/plain": [
       "[(-0.0606, 0.618], (-3.842, -0.718], (0.618, 3.657], (-3.842, -0.718], (-0.0606, 0.618], ..., (-0.718, -0.0606], (0.618, 3.657], (-0.718, -0.0606], (-3.842, -0.718], (-0.718, -0.0606]]\n",
       "Length: 1000\n",
       "Categories (4, interval[float64, right]): [(-3.842, -0.718] < (-0.718, -0.0606] < (-0.0606, 0.618] < (0.618, 3.657]]"
      ]
     },
     "execution_count": 34,
     "metadata": {},
     "output_type": "execute_result"
    }
   ],
   "source": [
    "cats = pd.qcut(dt,4)\n",
    "cats\n"
   ]
  },
  {
   "cell_type": "code",
   "execution_count": 36,
   "id": "bf8524af",
   "metadata": {},
   "outputs": [
    {
     "data": {
      "text/plain": [
       "(-3.842, -0.718]     250\n",
       "(-0.718, -0.0606]    250\n",
       "(-0.0606, 0.618]     250\n",
       "(0.618, 3.657]       250\n",
       "dtype: int64"
      ]
     },
     "execution_count": 36,
     "metadata": {},
     "output_type": "execute_result"
    }
   ],
   "source": [
    "pd.value_counts(cats)"
   ]
  },
  {
   "cell_type": "code",
   "execution_count": 38,
   "id": "f7b3a6aa",
   "metadata": {},
   "outputs": [
    {
     "data": {
      "text/plain": [
       "(-1.356, -0.0606]    400\n",
       "(-0.0606, 1.261]     400\n",
       "(-3.842, -1.356]     100\n",
       "(1.261, 3.657]       100\n",
       "dtype: int64"
      ]
     },
     "execution_count": 38,
     "metadata": {},
     "output_type": "execute_result"
    }
   ],
   "source": [
    "df3 = pd.qcut(dt,[0,0.1,0.5,0.9,1.])\n",
    "pd.value_counts(df3)"
   ]
  }
 ],
 "metadata": {
  "kernelspec": {
   "display_name": "Python 3 (ipykernel)",
   "language": "python",
   "name": "python3"
  },
  "language_info": {
   "codemirror_mode": {
    "name": "ipython",
    "version": 3
   },
   "file_extension": ".py",
   "mimetype": "text/x-python",
   "name": "python",
   "nbconvert_exporter": "python",
   "pygments_lexer": "ipython3",
   "version": "3.9.12"
  }
 },
 "nbformat": 4,
 "nbformat_minor": 5
}
