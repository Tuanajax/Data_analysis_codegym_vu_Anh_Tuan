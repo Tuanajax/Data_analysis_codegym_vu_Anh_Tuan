{
 "cells": [
  {
   "cell_type": "code",
   "execution_count": 1,
   "id": "cc080dd8",
   "metadata": {},
   "outputs": [],
   "source": [
    "import pandas as pd\n",
    "import numpy as np\n",
    "import matplotlib.pyplot as plt\n",
    "import seaborn as sns\n",
    "from sklearn.preprocessing import MinMaxScaler\n",
    "    "
   ]
  },
  {
   "cell_type": "code",
   "execution_count": 2,
   "id": "9452b8b3",
   "metadata": {},
   "outputs": [
    {
     "data": {
      "text/html": [
       "<div>\n",
       "<style scoped>\n",
       "    .dataframe tbody tr th:only-of-type {\n",
       "        vertical-align: middle;\n",
       "    }\n",
       "\n",
       "    .dataframe tbody tr th {\n",
       "        vertical-align: top;\n",
       "    }\n",
       "\n",
       "    .dataframe thead th {\n",
       "        text-align: right;\n",
       "    }\n",
       "</style>\n",
       "<table border=\"1\" class=\"dataframe\">\n",
       "  <thead>\n",
       "    <tr style=\"text-align: right;\">\n",
       "      <th></th>\n",
       "      <th>beta</th>\n",
       "      <th>exponential</th>\n",
       "      <th>normal_p</th>\n",
       "      <th>normal_l</th>\n",
       "      <th>bimodal</th>\n",
       "    </tr>\n",
       "  </thead>\n",
       "  <tbody>\n",
       "    <tr>\n",
       "      <th>0</th>\n",
       "      <td>55.555212</td>\n",
       "      <td>6.598405</td>\n",
       "      <td>9.279386</td>\n",
       "      <td>21.325097</td>\n",
       "      <td>20.315597</td>\n",
       "    </tr>\n",
       "    <tr>\n",
       "      <th>1</th>\n",
       "      <td>22.790041</td>\n",
       "      <td>14.130716</td>\n",
       "      <td>11.749517</td>\n",
       "      <td>29.987279</td>\n",
       "      <td>20.331468</td>\n",
       "    </tr>\n",
       "    <tr>\n",
       "      <th>2</th>\n",
       "      <td>50.313684</td>\n",
       "      <td>4.984688</td>\n",
       "      <td>8.793603</td>\n",
       "      <td>23.558811</td>\n",
       "      <td>19.830741</td>\n",
       "    </tr>\n",
       "    <tr>\n",
       "      <th>3</th>\n",
       "      <td>43.142220</td>\n",
       "      <td>13.133758</td>\n",
       "      <td>9.944595</td>\n",
       "      <td>11.362247</td>\n",
       "      <td>21.140632</td>\n",
       "    </tr>\n",
       "    <tr>\n",
       "      <th>4</th>\n",
       "      <td>56.696639</td>\n",
       "      <td>2.380199</td>\n",
       "      <td>9.891346</td>\n",
       "      <td>-0.105969</td>\n",
       "      <td>17.594803</td>\n",
       "    </tr>\n",
       "  </tbody>\n",
       "</table>\n",
       "</div>"
      ],
      "text/plain": [
       "        beta  exponential   normal_p   normal_l    bimodal\n",
       "0  55.555212     6.598405   9.279386  21.325097  20.315597\n",
       "1  22.790041    14.130716  11.749517  29.987279  20.331468\n",
       "2  50.313684     4.984688   8.793603  23.558811  19.830741\n",
       "3  43.142220    13.133758   9.944595  11.362247  21.140632\n",
       "4  56.696639     2.380199   9.891346  -0.105969  17.594803"
      ]
     },
     "execution_count": 2,
     "metadata": {},
     "output_type": "execute_result"
    }
   ],
   "source": [
    "df = pd.DataFrame({'beta':np.random.beta(5,1,1000)*60,\n",
    "                   'exponential':np.random.exponential(10,1000),\n",
    "                   'normal_p':np.random.normal(10,2,1000),\n",
    "                   'normal_l': np.random.normal(10,10,1000),\n",
    "                  })\n",
    "# Thêm dữ liệu được tạo theo phân phối nhị thức\n",
    "fist_half = np.random.normal(20,3,500)\n",
    "second_half = np.random.normal(-20,3,500)\n",
    "bimodal = np.concatenate([fist_half,second_half])\n",
    "df['bimodal']= bimodal  \n",
    "df.head()"
   ]
  },
  {
   "cell_type": "code",
   "execution_count": 3,
   "id": "72c6ac85",
   "metadata": {},
   "outputs": [
    {
     "data": {
      "text/plain": [
       "<AxesSubplot:ylabel='Density'>"
      ]
     },
     "execution_count": 3,
     "metadata": {},
     "output_type": "execute_result"
    },
    {
     "data": {
      "image/png": "[encoded data removed]",
      "text/plain": [
       "<Figure size 432x288 with 1 Axes>"
      ]
     },
     "metadata": {
      "needs_background": "light"
     },
     "output_type": "display_data"
    }
   ],
   "source": [
    "# Trực quan hóa\n",
    "sns.kdeplot(data=df)"
   ]
  },
  {
   "cell_type": "code",
   "execution_count": 4,
   "id": "dcb2f3e8",
   "metadata": {},
   "outputs": [
    {
     "data": {
      "text/html": [
       "<div>\n",
       "<style scoped>\n",
       "    .dataframe tbody tr th:only-of-type {\n",
       "        vertical-align: middle;\n",
       "    }\n",
       "\n",
       "    .dataframe tbody tr th {\n",
       "        vertical-align: top;\n",
       "    }\n",
       "\n",
       "    .dataframe thead th {\n",
       "        text-align: right;\n",
       "    }\n",
       "</style>\n",
       "<table border=\"1\" class=\"dataframe\">\n",
       "  <thead>\n",
       "    <tr style=\"text-align: right;\">\n",
       "      <th></th>\n",
       "      <th>beta</th>\n",
       "      <th>exponential</th>\n",
       "      <th>normal_p</th>\n",
       "      <th>normal_l</th>\n",
       "      <th>bimodal</th>\n",
       "    </tr>\n",
       "  </thead>\n",
       "  <tbody>\n",
       "    <tr>\n",
       "      <th>count</th>\n",
       "      <td>1000.000000</td>\n",
       "      <td>1000.000000</td>\n",
       "      <td>1000.000000</td>\n",
       "      <td>1000.000000</td>\n",
       "      <td>1000.000000</td>\n",
       "    </tr>\n",
       "    <tr>\n",
       "      <th>mean</th>\n",
       "      <td>49.738485</td>\n",
       "      <td>9.222204</td>\n",
       "      <td>9.926005</td>\n",
       "      <td>10.338673</td>\n",
       "      <td>0.095485</td>\n",
       "    </tr>\n",
       "    <tr>\n",
       "      <th>std</th>\n",
       "      <td>8.624250</td>\n",
       "      <td>9.569242</td>\n",
       "      <td>1.981599</td>\n",
       "      <td>9.959862</td>\n",
       "      <td>20.269555</td>\n",
       "    </tr>\n",
       "    <tr>\n",
       "      <th>min</th>\n",
       "      <td>5.447622</td>\n",
       "      <td>0.002979</td>\n",
       "      <td>3.830923</td>\n",
       "      <td>-20.410978</td>\n",
       "      <td>-30.176001</td>\n",
       "    </tr>\n",
       "    <tr>\n",
       "      <th>25%</th>\n",
       "      <td>45.584056</td>\n",
       "      <td>2.316870</td>\n",
       "      <td>8.649341</td>\n",
       "      <td>3.839108</td>\n",
       "      <td>-19.904987</td>\n",
       "    </tr>\n",
       "    <tr>\n",
       "      <th>50%</th>\n",
       "      <td>51.996849</td>\n",
       "      <td>6.273101</td>\n",
       "      <td>9.997738</td>\n",
       "      <td>10.268229</td>\n",
       "      <td>0.523451</td>\n",
       "    </tr>\n",
       "    <tr>\n",
       "      <th>75%</th>\n",
       "      <td>56.602014</td>\n",
       "      <td>12.704652</td>\n",
       "      <td>11.240465</td>\n",
       "      <td>16.848296</td>\n",
       "      <td>20.048016</td>\n",
       "    </tr>\n",
       "    <tr>\n",
       "      <th>max</th>\n",
       "      <td>59.994989</td>\n",
       "      <td>69.580900</td>\n",
       "      <td>15.980975</td>\n",
       "      <td>47.895092</td>\n",
       "      <td>29.880509</td>\n",
       "    </tr>\n",
       "  </tbody>\n",
       "</table>\n",
       "</div>"
      ],
      "text/plain": [
       "              beta  exponential     normal_p     normal_l      bimodal\n",
       "count  1000.000000  1000.000000  1000.000000  1000.000000  1000.000000\n",
       "mean     49.738485     9.222204     9.926005    10.338673     0.095485\n",
       "std       8.624250     9.569242     1.981599     9.959862    20.269555\n",
       "min       5.447622     0.002979     3.830923   -20.410978   -30.176001\n",
       "25%      45.584056     2.316870     8.649341     3.839108   -19.904987\n",
       "50%      51.996849     6.273101     9.997738    10.268229     0.523451\n",
       "75%      56.602014    12.704652    11.240465    16.848296    20.048016\n",
       "max      59.994989    69.580900    15.980975    47.895092    29.880509"
      ]
     },
     "execution_count": 4,
     "metadata": {},
     "output_type": "execute_result"
    }
   ],
   "source": [
    "# Thống kê\n",
    "df.describe()"
   ]
  },
  {
   "cell_type": "code",
   "execution_count": 6,
   "id": "8346d732",
   "metadata": {},
   "outputs": [
    {
     "data": {
      "text/plain": [
       "<AxesSubplot:ylabel='Density'>"
      ]
     },
     "execution_count": 6,
     "metadata": {},
     "output_type": "execute_result"
    },
    {
     "data": {
      "image/png": "[encoded data removed]",
      "text/plain": [
       "<Figure size 432x288 with 1 Axes>"
      ]
     },
     "metadata": {
      "needs_background": "light"
     },
     "output_type": "display_data"
    }
   ],
   "source": [
    "normal_big = np.random.normal(1000000, 10000, (1000,1))  # normal distribution of large values\n",
    "df['normal_big'] = normal_big\n",
    "sns.kdeplot(data=df)\n"
   ]
  },
  {
   "cell_type": "code",
   "execution_count": 7,
   "id": "7496c543",
   "metadata": {},
   "outputs": [
    {
     "data": {
      "text/html": [
       "<div>\n",
       "<style scoped>\n",
       "    .dataframe tbody tr th:only-of-type {\n",
       "        vertical-align: middle;\n",
       "    }\n",
       "\n",
       "    .dataframe tbody tr th {\n",
       "        vertical-align: top;\n",
       "    }\n",
       "\n",
       "    .dataframe thead th {\n",
       "        text-align: right;\n",
       "    }\n",
       "</style>\n",
       "<table border=\"1\" class=\"dataframe\">\n",
       "  <thead>\n",
       "    <tr style=\"text-align: right;\">\n",
       "      <th></th>\n",
       "      <th>beta</th>\n",
       "      <th>exponential</th>\n",
       "      <th>normal_p</th>\n",
       "      <th>normal_l</th>\n",
       "      <th>bimodal</th>\n",
       "      <th>normal_big</th>\n",
       "    </tr>\n",
       "  </thead>\n",
       "  <tbody>\n",
       "    <tr>\n",
       "      <th>0</th>\n",
       "      <td>0.918607</td>\n",
       "      <td>0.094792</td>\n",
       "      <td>0.448431</td>\n",
       "      <td>0.611016</td>\n",
       "      <td>0.840735</td>\n",
       "      <td>0.492443</td>\n",
       "    </tr>\n",
       "    <tr>\n",
       "      <th>1</th>\n",
       "      <td>0.317933</td>\n",
       "      <td>0.203049</td>\n",
       "      <td>0.651733</td>\n",
       "      <td>0.737830</td>\n",
       "      <td>0.840999</td>\n",
       "      <td>0.463821</td>\n",
       "    </tr>\n",
       "    <tr>\n",
       "      <th>2</th>\n",
       "      <td>0.822516</td>\n",
       "      <td>0.071599</td>\n",
       "      <td>0.408449</td>\n",
       "      <td>0.643717</td>\n",
       "      <td>0.832661</td>\n",
       "      <td>0.673323</td>\n",
       "    </tr>\n",
       "    <tr>\n",
       "      <th>3</th>\n",
       "      <td>0.691043</td>\n",
       "      <td>0.188720</td>\n",
       "      <td>0.503181</td>\n",
       "      <td>0.465160</td>\n",
       "      <td>0.854472</td>\n",
       "      <td>0.634752</td>\n",
       "    </tr>\n",
       "    <tr>\n",
       "      <th>4</th>\n",
       "      <td>0.939532</td>\n",
       "      <td>0.034166</td>\n",
       "      <td>0.498798</td>\n",
       "      <td>0.297265</td>\n",
       "      <td>0.795431</td>\n",
       "      <td>0.280027</td>\n",
       "    </tr>\n",
       "  </tbody>\n",
       "</table>\n",
       "</div>"
      ],
      "text/plain": [
       "       beta  exponential  normal_p  normal_l   bimodal  normal_big\n",
       "0  0.918607     0.094792  0.448431  0.611016  0.840735    0.492443\n",
       "1  0.317933     0.203049  0.651733  0.737830  0.840999    0.463821\n",
       "2  0.822516     0.071599  0.408449  0.643717  0.832661    0.673323\n",
       "3  0.691043     0.188720  0.503181  0.465160  0.854472    0.634752\n",
       "4  0.939532     0.034166  0.498798  0.297265  0.795431    0.280027"
      ]
     },
     "execution_count": 7,
     "metadata": {},
     "output_type": "execute_result"
    }
   ],
   "source": [
    "# Chuẩn hóa đối tượng MinMax_Scaler\n",
    "scaler = MinMaxScaler()\n",
    "df_s=scaler.fit_transform(df)\n",
    "col_names=list(df.columns)\n",
    "df_s = pd.DataFrame(df_s,columns=col_names)\n",
    "df_s.head()"
   ]
  },
  {
   "cell_type": "code",
   "execution_count": 8,
   "id": "6aa48fd8",
   "metadata": {},
   "outputs": [
    {
     "data": {
      "text/plain": [
       "<AxesSubplot:ylabel='Density'>"
      ]
     },
     "execution_count": 8,
     "metadata": {},
     "output_type": "execute_result"
    },
    {
     "data": {
      "image/png": "[encoded data removed]",
      "text/plain": [
       "<Figure size 432x288 with 1 Axes>"
      ]
     },
     "metadata": {
      "needs_background": "light"
     },
     "output_type": "display_data"
    }
   ],
   "source": [
    "sns.kdeplot(data=df_s)"
   ]
  },
  {
   "cell_type": "code",
   "execution_count": 10,
   "id": "22f62f2c",
   "metadata": {},
   "outputs": [
    {
     "data": {
      "text/plain": [
       "<AxesSubplot:>"
      ]
     },
     "execution_count": 10,
     "metadata": {},
     "output_type": "execute_result"
    },
    {
     "data": {
      "image/png": "[encoded data removed]",
      "text/plain": [
       "<Figure size 432x288 with 1 Axes>"
      ]
     },
     "metadata": {
      "needs_background": "light"
     },
     "output_type": "display_data"
    }
   ],
   "source": [
    "df_s.boxplot()"
   ]
  },
  {
   "cell_type": "code",
   "execution_count": 12,
   "id": "84369229",
   "metadata": {},
   "outputs": [
    {
     "data": {
      "text/html": [
       "<div>\n",
       "<style scoped>\n",
       "    .dataframe tbody tr th:only-of-type {\n",
       "        vertical-align: middle;\n",
       "    }\n",
       "\n",
       "    .dataframe tbody tr th {\n",
       "        vertical-align: top;\n",
       "    }\n",
       "\n",
       "    .dataframe thead th {\n",
       "        text-align: right;\n",
       "    }\n",
       "</style>\n",
       "<table border=\"1\" class=\"dataframe\">\n",
       "  <thead>\n",
       "    <tr style=\"text-align: right;\">\n",
       "      <th></th>\n",
       "      <th>beta</th>\n",
       "      <th>exponential</th>\n",
       "      <th>normal_p</th>\n",
       "      <th>normal_l</th>\n",
       "      <th>bimodal</th>\n",
       "      <th>normal_big</th>\n",
       "    </tr>\n",
       "  </thead>\n",
       "  <tbody>\n",
       "    <tr>\n",
       "      <th>count</th>\n",
       "      <td>1000.000000</td>\n",
       "      <td>1000.000000</td>\n",
       "      <td>1000.000000</td>\n",
       "      <td>1000.000000</td>\n",
       "      <td>1000.000000</td>\n",
       "      <td>1000.000000</td>\n",
       "    </tr>\n",
       "    <tr>\n",
       "      <th>mean</th>\n",
       "      <td>0.811971</td>\n",
       "      <td>0.132502</td>\n",
       "      <td>0.501651</td>\n",
       "      <td>0.450175</td>\n",
       "      <td>0.504050</td>\n",
       "      <td>0.517253</td>\n",
       "    </tr>\n",
       "    <tr>\n",
       "      <th>std</th>\n",
       "      <td>0.158106</td>\n",
       "      <td>0.137533</td>\n",
       "      <td>0.163094</td>\n",
       "      <td>0.145812</td>\n",
       "      <td>0.337508</td>\n",
       "      <td>0.160152</td>\n",
       "    </tr>\n",
       "    <tr>\n",
       "      <th>min</th>\n",
       "      <td>0.000000</td>\n",
       "      <td>0.000000</td>\n",
       "      <td>0.000000</td>\n",
       "      <td>0.000000</td>\n",
       "      <td>0.000000</td>\n",
       "      <td>0.000000</td>\n",
       "    </tr>\n",
       "    <tr>\n",
       "      <th>25%</th>\n",
       "      <td>0.735809</td>\n",
       "      <td>0.033256</td>\n",
       "      <td>0.396576</td>\n",
       "      <td>0.355021</td>\n",
       "      <td>0.171022</td>\n",
       "      <td>0.416575</td>\n",
       "    </tr>\n",
       "    <tr>\n",
       "      <th>50%</th>\n",
       "      <td>0.853373</td>\n",
       "      <td>0.090117</td>\n",
       "      <td>0.507555</td>\n",
       "      <td>0.449143</td>\n",
       "      <td>0.511176</td>\n",
       "      <td>0.520819</td>\n",
       "    </tr>\n",
       "    <tr>\n",
       "      <th>75%</th>\n",
       "      <td>0.937798</td>\n",
       "      <td>0.182553</td>\n",
       "      <td>0.609836</td>\n",
       "      <td>0.545475</td>\n",
       "      <td>0.836279</td>\n",
       "      <td>0.625182</td>\n",
       "    </tr>\n",
       "    <tr>\n",
       "      <th>max</th>\n",
       "      <td>1.000000</td>\n",
       "      <td>1.000000</td>\n",
       "      <td>1.000000</td>\n",
       "      <td>1.000000</td>\n",
       "      <td>1.000000</td>\n",
       "      <td>1.000000</td>\n",
       "    </tr>\n",
       "  </tbody>\n",
       "</table>\n",
       "</div>"
      ],
      "text/plain": [
       "              beta  exponential     normal_p     normal_l      bimodal  \\\n",
       "count  1000.000000  1000.000000  1000.000000  1000.000000  1000.000000   \n",
       "mean      0.811971     0.132502     0.501651     0.450175     0.504050   \n",
       "std       0.158106     0.137533     0.163094     0.145812     0.337508   \n",
       "min       0.000000     0.000000     0.000000     0.000000     0.000000   \n",
       "25%       0.735809     0.033256     0.396576     0.355021     0.171022   \n",
       "50%       0.853373     0.090117     0.507555     0.449143     0.511176   \n",
       "75%       0.937798     0.182553     0.609836     0.545475     0.836279   \n",
       "max       1.000000     1.000000     1.000000     1.000000     1.000000   \n",
       "\n",
       "        normal_big  \n",
       "count  1000.000000  \n",
       "mean      0.517253  \n",
       "std       0.160152  \n",
       "min       0.000000  \n",
       "25%       0.416575  \n",
       "50%       0.520819  \n",
       "75%       0.625182  \n",
       "max       1.000000  "
      ]
     },
     "execution_count": 12,
     "metadata": {},
     "output_type": "execute_result"
    }
   ],
   "source": [
    "df_s.describe()"
   ]
  },
  {
   "cell_type": "code",
   "execution_count": 14,
   "id": "537ba079",
   "metadata": {},
   "outputs": [
    {
     "data": {
      "text/plain": [
       "0.0"
      ]
     },
     "execution_count": 14,
     "metadata": {},
     "output_type": "execute_result"
    }
   ],
   "source": [
    "df_s['beta'].min()"
   ]
  },
  {
   "cell_type": "code",
   "execution_count": 16,
   "id": "850ba46b",
   "metadata": {},
   "outputs": [
    {
     "data": {
      "text/plain": [
       "0.9999999999999999"
      ]
     },
     "execution_count": 16,
     "metadata": {},
     "output_type": "execute_result"
    }
   ],
   "source": [
    "df_s['beta'].max()"
   ]
  },
  {
   "cell_type": "code",
   "execution_count": 18,
   "id": "a5f892f3",
   "metadata": {},
   "outputs": [
    {
     "data": {
      "text/plain": [
       "[5.447621573635916,\n",
       " 0.0029792068286454403,\n",
       " 3.8309231778319637,\n",
       " -20.41097808125121,\n",
       " -30.17600098395402,\n",
       " 966235.8052345985]"
      ]
     },
     "execution_count": 18,
     "metadata": {},
     "output_type": "execute_result"
    }
   ],
   "source": [
    "mins = [df[col].min() for col in df.columns]\n",
    "mins"
   ]
  },
  {
   "cell_type": "code",
   "execution_count": 21,
   "id": "5395bf21",
   "metadata": {},
   "outputs": [
    {
     "data": {
      "text/plain": [
       "[0.0, 0.0, 0.0, 0.0, 0.0, 0.0]"
      ]
     },
     "execution_count": 21,
     "metadata": {},
     "output_type": "execute_result"
    }
   ],
   "source": [
    "mins_stan = [df_s[col].min() for col in df_s.columns]\n",
    "mins_stan"
   ]
  },
  {
   "cell_type": "code",
   "execution_count": 23,
   "id": "35376fd0",
   "metadata": {},
   "outputs": [
    {
     "data": {
      "text/plain": [
       "[59.994989329007154,\n",
       " 69.58090019569832,\n",
       " 15.980974912587673,\n",
       " 47.895091897084896,\n",
       " 29.88050872108228,\n",
       " 1031899.5844863832]"
      ]
     },
     "execution_count": 23,
     "metadata": {},
     "output_type": "execute_result"
    }
   ],
   "source": [
    "maxs = [df[col].max() for col in df.columns]\n",
    "maxs\n"
   ]
  },
  {
   "cell_type": "code",
   "execution_count": 27,
   "id": "7b3cebcc",
   "metadata": {},
   "outputs": [
    {
     "data": {
      "text/plain": [
       "[0.9999999999999999, 1.0, 1.0, 1.0000000000000002, 1.0, 1.0]"
      ]
     },
     "execution_count": 27,
     "metadata": {},
     "output_type": "execute_result"
    }
   ],
   "source": [
    "maxs_stan = [df_s[col].max() for col in df_s.columns]\n",
    "maxs_stan"
   ]
  }
 ],
 "metadata": {
  "kernelspec": {
   "display_name": "Python 3 (ipykernel)",
   "language": "python",
   "name": "python3"
  },
  "language_info": {
   "codemirror_mode": {
    "name": "ipython",
    "version": 3
   },
   "file_extension": ".py",
   "mimetype": "text/x-python",
   "name": "python",
   "nbconvert_exporter": "python",
   "pygments_lexer": "ipython3",
   "version": "3.9.12"
  }
 },
 "nbformat": 4,
 "nbformat_minor": 5
}
