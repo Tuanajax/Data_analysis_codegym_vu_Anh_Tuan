{
 "cells": [
  {
   "cell_type": "code",
   "execution_count": 6,
   "metadata": {},
   "outputs": [],
   "source": [
    "\n",
    "import numpy as np \n",
    "import matplotlib.pyplot as plt \n",
    "import seaborn as sns \n",
    "from sklearn.preprocessing import StandardScaler\n"
   ]
  },
  {
   "cell_type": "code",
   "execution_count": 9,
   "metadata": {},
   "outputs": [],
   "source": [
    "df = pd.DataFrame({'beta':np.random.beta(5,1,1000)*60,\n",
    "                   'exponential':np.random.exponential(10,1000),\n",
    "                   'normal_p':np.random.normal(10,2,1000),\n",
    "                   'normal_l': np.random.normal(10,10,1000),\n",
    "                  })\n",
    "                   \n"
   ]
  },
  {
   "cell_type": "code",
   "execution_count": null,
   "metadata": {},
   "outputs": [],
   "source": [
    "# Thêm dữ liệu được tạo theo phân phối nhị thức\n",
    "fist_half = np.random.normal(20,3,500)\n",
    "second_half = np.random.normal(-20,3,500)\n",
    "bimodal = np.concatenate([fist_half,second_half])\n",
    "df['bimodal']= bimodal"
   ]
  },
  {
   "cell_type": "code",
   "execution_count": 11,
   "metadata": {},
   "outputs": [
    {
     "data": {
      "text/html": [
       "<div>\n",
       "<style scoped>\n",
       "    .dataframe tbody tr th:only-of-type {\n",
       "        vertical-align: middle;\n",
       "    }\n",
       "\n",
       "    .dataframe tbody tr th {\n",
       "        vertical-align: top;\n",
       "    }\n",
       "\n",
       "    .dataframe thead th {\n",
       "        text-align: right;\n",
       "    }\n",
       "</style>\n",
       "<table border=\"1\" class=\"dataframe\">\n",
       "  <thead>\n",
       "    <tr style=\"text-align: right;\">\n",
       "      <th></th>\n",
       "      <th>beta</th>\n",
       "      <th>exponential</th>\n",
       "      <th>normal_p</th>\n",
       "      <th>normal_l</th>\n",
       "    </tr>\n",
       "  </thead>\n",
       "  <tbody>\n",
       "    <tr>\n",
       "      <th>0</th>\n",
       "      <td>51.112238</td>\n",
       "      <td>9.126960</td>\n",
       "      <td>14.302411</td>\n",
       "      <td>5.799659</td>\n",
       "    </tr>\n",
       "    <tr>\n",
       "      <th>1</th>\n",
       "      <td>29.384298</td>\n",
       "      <td>11.085548</td>\n",
       "      <td>13.639056</td>\n",
       "      <td>4.409310</td>\n",
       "    </tr>\n",
       "    <tr>\n",
       "      <th>2</th>\n",
       "      <td>58.038839</td>\n",
       "      <td>1.538912</td>\n",
       "      <td>6.069966</td>\n",
       "      <td>11.480299</td>\n",
       "    </tr>\n",
       "    <tr>\n",
       "      <th>3</th>\n",
       "      <td>53.997432</td>\n",
       "      <td>0.656770</td>\n",
       "      <td>11.125216</td>\n",
       "      <td>7.926467</td>\n",
       "    </tr>\n",
       "    <tr>\n",
       "      <th>4</th>\n",
       "      <td>49.190211</td>\n",
       "      <td>4.046069</td>\n",
       "      <td>9.612599</td>\n",
       "      <td>13.289769</td>\n",
       "    </tr>\n",
       "  </tbody>\n",
       "</table>\n",
       "</div>"
      ],
      "text/plain": [
       "        beta  exponential   normal_p   normal_l\n",
       "0  51.112238     9.126960  14.302411   5.799659\n",
       "1  29.384298    11.085548  13.639056   4.409310\n",
       "2  58.038839     1.538912   6.069966  11.480299\n",
       "3  53.997432     0.656770  11.125216   7.926467\n",
       "4  49.190211     4.046069   9.612599  13.289769"
      ]
     },
     "execution_count": 11,
     "metadata": {},
     "output_type": "execute_result"
    }
   ],
   "source": [
    "df.head()\n"
   ]
  },
  {
   "cell_type": "code",
   "execution_count": 13,
   "metadata": {},
   "outputs": [
    {
     "data": {
      "text/plain": [
       "<AxesSubplot:ylabel='Density'>"
      ]
     },
     "execution_count": 13,
     "metadata": {},
     "output_type": "execute_result"
    },
    {
     "data": {
      "image/png": "[encoded data removed]",
      "text/plain": [
       "<Figure size 432x288 with 1 Axes>"
      ]
     },
     "metadata": {
      "needs_background": "light"
     },
     "output_type": "display_data"
    }
   ],
   "source": [
    "# Trực quan dữ liệu\n",
    "sns.kdeplot(data=df)\n"
   ]
  },
  {
   "cell_type": "code",
   "execution_count": 14,
   "metadata": {},
   "outputs": [
    {
     "data": {
      "text/html": [
       "<div>\n",
       "<style scoped>\n",
       "    .dataframe tbody tr th:only-of-type {\n",
       "        vertical-align: middle;\n",
       "    }\n",
       "\n",
       "    .dataframe tbody tr th {\n",
       "        vertical-align: top;\n",
       "    }\n",
       "\n",
       "    .dataframe thead th {\n",
       "        text-align: right;\n",
       "    }\n",
       "</style>\n",
       "<table border=\"1\" class=\"dataframe\">\n",
       "  <thead>\n",
       "    <tr style=\"text-align: right;\">\n",
       "      <th></th>\n",
       "      <th>beta</th>\n",
       "      <th>exponential</th>\n",
       "      <th>normal_p</th>\n",
       "      <th>normal_l</th>\n",
       "    </tr>\n",
       "  </thead>\n",
       "  <tbody>\n",
       "    <tr>\n",
       "      <th>count</th>\n",
       "      <td>1000.000000</td>\n",
       "      <td>1000.000000</td>\n",
       "      <td>1000.000000</td>\n",
       "      <td>1000.000000</td>\n",
       "    </tr>\n",
       "    <tr>\n",
       "      <th>mean</th>\n",
       "      <td>49.352392</td>\n",
       "      <td>10.157395</td>\n",
       "      <td>9.958115</td>\n",
       "      <td>10.184092</td>\n",
       "    </tr>\n",
       "    <tr>\n",
       "      <th>std</th>\n",
       "      <td>8.952427</td>\n",
       "      <td>9.857877</td>\n",
       "      <td>2.005351</td>\n",
       "      <td>9.985310</td>\n",
       "    </tr>\n",
       "    <tr>\n",
       "      <th>min</th>\n",
       "      <td>11.845763</td>\n",
       "      <td>0.047566</td>\n",
       "      <td>3.565046</td>\n",
       "      <td>-26.546157</td>\n",
       "    </tr>\n",
       "    <tr>\n",
       "      <th>25%</th>\n",
       "      <td>43.941661</td>\n",
       "      <td>2.969847</td>\n",
       "      <td>8.580850</td>\n",
       "      <td>3.004294</td>\n",
       "    </tr>\n",
       "    <tr>\n",
       "      <th>50%</th>\n",
       "      <td>51.861165</td>\n",
       "      <td>7.343221</td>\n",
       "      <td>9.983076</td>\n",
       "      <td>10.442167</td>\n",
       "    </tr>\n",
       "    <tr>\n",
       "      <th>75%</th>\n",
       "      <td>56.366708</td>\n",
       "      <td>13.891268</td>\n",
       "      <td>11.287784</td>\n",
       "      <td>16.962082</td>\n",
       "    </tr>\n",
       "    <tr>\n",
       "      <th>max</th>\n",
       "      <td>59.990399</td>\n",
       "      <td>72.625198</td>\n",
       "      <td>15.890245</td>\n",
       "      <td>48.100093</td>\n",
       "    </tr>\n",
       "  </tbody>\n",
       "</table>\n",
       "</div>"
      ],
      "text/plain": [
       "              beta  exponential     normal_p     normal_l\n",
       "count  1000.000000  1000.000000  1000.000000  1000.000000\n",
       "mean     49.352392    10.157395     9.958115    10.184092\n",
       "std       8.952427     9.857877     2.005351     9.985310\n",
       "min      11.845763     0.047566     3.565046   -26.546157\n",
       "25%      43.941661     2.969847     8.580850     3.004294\n",
       "50%      51.861165     7.343221     9.983076    10.442167\n",
       "75%      56.366708    13.891268    11.287784    16.962082\n",
       "max      59.990399    72.625198    15.890245    48.100093"
      ]
     },
     "execution_count": 14,
     "metadata": {},
     "output_type": "execute_result"
    }
   ],
   "source": [
    "df.describe()\n"
   ]
  },
  {
   "cell_type": "code",
   "execution_count": 15,
   "metadata": {},
   "outputs": [
    {
     "data": {
      "text/plain": [
       "<AxesSubplot:ylabel='Density'>"
      ]
     },
     "execution_count": 15,
     "metadata": {},
     "output_type": "execute_result"
    },
    {
     "data": {
      "image/png": "[encoded data removed]",
      "text/plain": [
       "<Figure size 432x288 with 1 Axes>"
      ]
     },
     "metadata": {
      "needs_background": "light"
     },
     "output_type": "display_data"
    }
   ],
   "source": [
    "normal_big =np.random.normal(1000000,10000,(1000,1))\n",
    "# Normal distribution of large values\n",
    "df['normal_big'] =normal_big\n",
    "sns.kdeplot(data=df)"
   ]
  },
  {
   "cell_type": "code",
   "execution_count": 17,
   "metadata": {},
   "outputs": [
    {
     "data": {
      "text/plain": [
       "<AxesSubplot:>"
      ]
     },
     "execution_count": 17,
     "metadata": {},
     "output_type": "execute_result"
    },
    {
     "data": {
      "image/png": "[encoded data removed]",
      "text/plain": [
       "<Figure size 432x288 with 1 Axes>"
      ]
     },
     "metadata": {
      "needs_background": "light"
     },
     "output_type": "display_data"
    }
   ],
   "source": [
    "# Trực quan hóa bằng biểu đồ box plot\n",
    "df.boxplot()"
   ]
  },
  {
   "cell_type": "code",
   "execution_count": 23,
   "metadata": {},
   "outputs": [
    {
     "data": {
      "text/html": [
       "<div>\n",
       "<style scoped>\n",
       "    .dataframe tbody tr th:only-of-type {\n",
       "        vertical-align: middle;\n",
       "    }\n",
       "\n",
       "    .dataframe tbody tr th {\n",
       "        vertical-align: top;\n",
       "    }\n",
       "\n",
       "    .dataframe thead th {\n",
       "        text-align: right;\n",
       "    }\n",
       "</style>\n",
       "<table border=\"1\" class=\"dataframe\">\n",
       "  <thead>\n",
       "    <tr style=\"text-align: right;\">\n",
       "      <th></th>\n",
       "      <th>beta</th>\n",
       "      <th>exponential</th>\n",
       "      <th>normal_p</th>\n",
       "      <th>normal_l</th>\n",
       "      <th>normal_big</th>\n",
       "    </tr>\n",
       "  </thead>\n",
       "  <tbody>\n",
       "    <tr>\n",
       "      <th>0</th>\n",
       "      <td>0.196676</td>\n",
       "      <td>-0.104581</td>\n",
       "      <td>2.167437</td>\n",
       "      <td>-0.439308</td>\n",
       "      <td>-0.385664</td>\n",
       "    </tr>\n",
       "    <tr>\n",
       "      <th>1</th>\n",
       "      <td>-2.231583</td>\n",
       "      <td>0.094201</td>\n",
       "      <td>1.836478</td>\n",
       "      <td>-0.578617</td>\n",
       "      <td>-1.643742</td>\n",
       "    </tr>\n",
       "    <tr>\n",
       "      <th>2</th>\n",
       "      <td>0.970775</td>\n",
       "      <td>-0.874711</td>\n",
       "      <td>-1.939858</td>\n",
       "      <td>0.129876</td>\n",
       "      <td>1.062134</td>\n",
       "    </tr>\n",
       "    <tr>\n",
       "      <th>3</th>\n",
       "      <td>0.519118</td>\n",
       "      <td>-0.964242</td>\n",
       "      <td>0.582285</td>\n",
       "      <td>-0.226208</td>\n",
       "      <td>1.117279</td>\n",
       "    </tr>\n",
       "    <tr>\n",
       "      <th>4</th>\n",
       "      <td>-0.018125</td>\n",
       "      <td>-0.620254</td>\n",
       "      <td>-0.172383</td>\n",
       "      <td>0.311180</td>\n",
       "      <td>-0.672385</td>\n",
       "    </tr>\n",
       "  </tbody>\n",
       "</table>\n",
       "</div>"
      ],
      "text/plain": [
       "       beta  exponential  normal_p  normal_l  normal_big\n",
       "0  0.196676    -0.104581  2.167437 -0.439308   -0.385664\n",
       "1 -2.231583     0.094201  1.836478 -0.578617   -1.643742\n",
       "2  0.970775    -0.874711 -1.939858  0.129876    1.062134\n",
       "3  0.519118    -0.964242  0.582285 -0.226208    1.117279\n",
       "4 -0.018125    -0.620254 -0.172383  0.311180   -0.672385"
      ]
     },
     "execution_count": 23,
     "metadata": {},
     "output_type": "execute_result"
    }
   ],
   "source": [
    "# Chuẩn hóa dữ liệu trong df với standardScaler\n",
    "s_scaler =StandardScaler()\n",
    "df_s = s_scaler.fit_transform(df)\n",
    "col_names = list(df.columns)\n",
    "df_s =pd.DataFrame(df_s,columns=col_names)\n",
    "df_s.head()\n",
    "\n"
   ]
  },
  {
   "cell_type": "code",
   "execution_count": null,
   "metadata": {},
   "outputs": [],
   "source": []
  }
 ],
 "metadata": {
  "kernelspec": {
   "display_name": "Python 3 (ipykernel)",
   "language": "python",
   "name": "python3"
  },
  "language_info": {
   "codemirror_mode": {
    "name": "ipython",
    "version": 3
   },
   "file_extension": ".py",
   "mimetype": "text/x-python",
   "name": "python",
   "nbconvert_exporter": "python",
   "pygments_lexer": "ipython3",
   "version": "3.9.12"
  },
  "vscode": {
   "interpreter": {
    "hash": "b0d189901c9e4b0353a325b132968d841ab7cd027ee0b02f23b857b073c54228"
   }
  }
 },
 "nbformat": 4,
 "nbformat_minor": 2
}
