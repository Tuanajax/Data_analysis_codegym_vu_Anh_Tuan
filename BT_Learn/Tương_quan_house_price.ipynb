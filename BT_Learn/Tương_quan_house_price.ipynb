{
 "cells": [
  {
   "cell_type": "code",
   "execution_count": 23,
   "id": "5205a915",
   "metadata": {},
   "outputs": [
    {
     "name": "stdout",
     "output_type": "stream",
     "text": [
      "<class 'pandas.core.frame.DataFrame'>\n",
      "RangeIndex: 671 entries, 0 to 670\n",
      "Data columns (total 12 columns):\n",
      " #   Column             Non-Null Count  Dtype  \n",
      "---  ------             --------------  -----  \n",
      " 0   area               665 non-null    float64\n",
      " 1   price              617 non-null    float64\n",
      " 2   postDate           671 non-null    int64  \n",
      " 3   land_certificate   369 non-null    object \n",
      " 4   house_direction    42 non-null     object \n",
      " 5   balcony_direction  24 non-null     object \n",
      " 6   toilet             240 non-null    float64\n",
      " 7   bedroom            320 non-null    float64\n",
      " 8   floor              366 non-null    float64\n",
      " 9   lat                671 non-null    float64\n",
      " 10  long               671 non-null    float64\n",
      " 11  property_type      671 non-null    object \n",
      "dtypes: float64(7), int64(1), object(4)\n",
      "memory usage: 63.0+ KB\n"
     ]
    }
   ],
   "source": [
    "import pandas as pd\n",
    "\n",
    "from scipy import stats\n",
    "\n",
    "import numpy as np\n",
    "\n",
    "import seaborn as sns\n",
    "\n",
    "from scipy.stats import chi2_contingency\n",
    "df = pd.read_csv('House_price.csv')\n",
    "\n",
    "df.info()"
   ]
  },
  {
   "cell_type": "code",
   "execution_count": 24,
   "id": "80b7c363",
   "metadata": {},
   "outputs": [
    {
     "data": {
      "text/plain": [
       "array(['So do', nan], dtype=object)"
      ]
     },
     "execution_count": 24,
     "metadata": {},
     "output_type": "execute_result"
    }
   ],
   "source": [
    "df['land_certificate'].unique()"
   ]
  },
  {
   "cell_type": "markdown",
   "id": "6243477f",
   "metadata": {},
   "source": [
    "1. Giữa giá nhà và diện tích có liên quan với nhau không?"
   ]
  },
  {
   "cell_type": "code",
   "execution_count": 7,
   "id": "c7cbf06d",
   "metadata": {},
   "outputs": [
    {
     "name": "stdout",
     "output_type": "stream",
     "text": [
      "<class 'pandas.core.frame.DataFrame'>\n",
      "Int64Index: 615 entries, 0 to 670\n",
      "Data columns (total 12 columns):\n",
      " #   Column             Non-Null Count  Dtype  \n",
      "---  ------             --------------  -----  \n",
      " 0   area               615 non-null    float64\n",
      " 1   price              615 non-null    float64\n",
      " 2   postDate           615 non-null    int64  \n",
      " 3   land_certificate   359 non-null    object \n",
      " 4   house_direction    41 non-null     object \n",
      " 5   balcony_direction  24 non-null     object \n",
      " 6   toilet             237 non-null    float64\n",
      " 7   bedroom            316 non-null    float64\n",
      " 8   floor              357 non-null    float64\n",
      " 9   lat                615 non-null    float64\n",
      " 10  long               615 non-null    float64\n",
      " 11  property_type      615 non-null    object \n",
      "dtypes: float64(7), int64(1), object(4)\n",
      "memory usage: 62.5+ KB\n"
     ]
    }
   ],
   "source": [
    "df1 = df.dropna(subset=['area','price'])\n",
    "df1.info()"
   ]
  },
  {
   "cell_type": "markdown",
   "id": "cb398cde",
   "metadata": {},
   "source": [
    "Phát biểu giả thuyết:\n",
    "+ H0: Giữa giá nhà và diện tích không có tương quan với nhau\n",
    "+ H1: Giữa giá nhà và diện tích có mối tương quan với nhau"
   ]
  },
  {
   "cell_type": "code",
   "execution_count": 9,
   "id": "0d8e093f",
   "metadata": {},
   "outputs": [
    {
     "name": "stdout",
     "output_type": "stream",
     "text": [
      "r: 0.22852101906798145; p_value: 9.947613326077062e-09\n"
     ]
    }
   ],
   "source": [
    "r, p_value = stats.pearsonr(df1.area, df1.price)\n",
    "print(f'r: {r}; p_value: {p_value}')"
   ]
  },
  {
   "cell_type": "markdown",
   "id": "c799aad4",
   "metadata": {},
   "source": [
    "Kết luận: chấp nhận giả thuyết H1\n"
   ]
  },
  {
   "cell_type": "markdown",
   "id": "d6e488f9",
   "metadata": {},
   "source": [
    "--------------------------------------------------------------------\n",
    "2. Kiểm định tương quan giá nhà và tọa độ địa lý\n"
   ]
  },
  {
   "cell_type": "code",
   "execution_count": 12,
   "id": "6afef73a",
   "metadata": {},
   "outputs": [],
   "source": [
    "df2 = df.dropna()"
   ]
  },
  {
   "cell_type": "markdown",
   "id": "d0ff0156",
   "metadata": {},
   "source": [
    "Phát biểu giả thuyết:\n",
    "+ H0: Giữa giá nhà và tọa độ địa lý không có mối tương quan với nhau\n",
    "+ H1: Giữa nhà và tọa độ địa lý có mối tương quan với nhau"
   ]
  },
  {
   "cell_type": "code",
   "execution_count": 14,
   "id": "9365fac4",
   "metadata": {},
   "outputs": [
    {
     "name": "stdout",
     "output_type": "stream",
     "text": [
      "r: 0.26783280265426535; p_value: 0.35456112847319127\n"
     ]
    }
   ],
   "source": [
    "r, p_value = stats.pearsonr(df2.long, df2.price)\n",
    "print(f'r: {r}; p_value: {p_value}')"
   ]
  },
  {
   "cell_type": "markdown",
   "id": "30bc632d",
   "metadata": {},
   "source": [
    "Kết luận: Do P > 0.05 vì vậy chấp nhận giả thuyết H0"
   ]
  },
  {
   "cell_type": "markdown",
   "id": "cb1c61d0",
   "metadata": {},
   "source": [
    "3. Thuộc tính land_certificate và property_type có tương quan với nhau?"
   ]
  },
  {
   "cell_type": "code",
   "execution_count": 39,
   "id": "fa603110",
   "metadata": {},
   "outputs": [
    {
     "data": {
      "text/html": [
       "<div>\n",
       "<style scoped>\n",
       "    .dataframe tbody tr th:only-of-type {\n",
       "        vertical-align: middle;\n",
       "    }\n",
       "\n",
       "    .dataframe tbody tr th {\n",
       "        vertical-align: top;\n",
       "    }\n",
       "\n",
       "    .dataframe thead th {\n",
       "        text-align: right;\n",
       "    }\n",
       "</style>\n",
       "<table border=\"1\" class=\"dataframe\">\n",
       "  <thead>\n",
       "    <tr style=\"text-align: right;\">\n",
       "      <th></th>\n",
       "      <th>land_certificate</th>\n",
       "      <th>property_type</th>\n",
       "    </tr>\n",
       "  </thead>\n",
       "  <tbody>\n",
       "    <tr>\n",
       "      <th>0</th>\n",
       "      <td>So do</td>\n",
       "      <td>trong ngo</td>\n",
       "    </tr>\n",
       "    <tr>\n",
       "      <th>1</th>\n",
       "      <td>So do</td>\n",
       "      <td>trong ngo</td>\n",
       "    </tr>\n",
       "    <tr>\n",
       "      <th>2</th>\n",
       "      <td>So do</td>\n",
       "      <td>trong ngo</td>\n",
       "    </tr>\n",
       "    <tr>\n",
       "      <th>3</th>\n",
       "      <td>So do</td>\n",
       "      <td>trong ngo</td>\n",
       "    </tr>\n",
       "    <tr>\n",
       "      <th>4</th>\n",
       "      <td>So do</td>\n",
       "      <td>trong ngo</td>\n",
       "    </tr>\n",
       "    <tr>\n",
       "      <th>...</th>\n",
       "      <td>...</td>\n",
       "      <td>...</td>\n",
       "    </tr>\n",
       "    <tr>\n",
       "      <th>666</th>\n",
       "      <td>Khong so do</td>\n",
       "      <td>mat pho</td>\n",
       "    </tr>\n",
       "    <tr>\n",
       "      <th>667</th>\n",
       "      <td>So do</td>\n",
       "      <td>mat pho</td>\n",
       "    </tr>\n",
       "    <tr>\n",
       "      <th>668</th>\n",
       "      <td>Khong so do</td>\n",
       "      <td>mat pho</td>\n",
       "    </tr>\n",
       "    <tr>\n",
       "      <th>669</th>\n",
       "      <td>Khong so do</td>\n",
       "      <td>mat pho</td>\n",
       "    </tr>\n",
       "    <tr>\n",
       "      <th>670</th>\n",
       "      <td>So do</td>\n",
       "      <td>mat pho</td>\n",
       "    </tr>\n",
       "  </tbody>\n",
       "</table>\n",
       "<p>671 rows × 2 columns</p>\n",
       "</div>"
      ],
      "text/plain": [
       "    land_certificate property_type\n",
       "0              So do     trong ngo\n",
       "1              So do     trong ngo\n",
       "2              So do     trong ngo\n",
       "3              So do     trong ngo\n",
       "4              So do     trong ngo\n",
       "..               ...           ...\n",
       "666      Khong so do       mat pho\n",
       "667            So do       mat pho\n",
       "668      Khong so do       mat pho\n",
       "669      Khong so do       mat pho\n",
       "670            So do       mat pho\n",
       "\n",
       "[671 rows x 2 columns]"
      ]
     },
     "execution_count": 39,
     "metadata": {},
     "output_type": "execute_result"
    }
   ],
   "source": [
    "df3 = df.filter(['land_certificate','property_type'])\n",
    "df3.head()\n",
    "\n",
    "df3 = df3.fillna('Khong so do')\n",
    "df3"
   ]
  },
  {
   "cell_type": "markdown",
   "id": "1ede261c",
   "metadata": {},
   "source": [
    "Phát biểu giả thuyết:\n",
    "+ H0: Hai thuộc tính land_certificate và property_type không có mối liên hệ\n",
    "+ H1: Hai thuộc tính land_certificate và property_type có mối liên hệ"
   ]
  },
  {
   "cell_type": "code",
   "execution_count": 40,
   "id": "476cce22",
   "metadata": {},
   "outputs": [
    {
     "data": {
      "text/html": [
       "<div>\n",
       "<style scoped>\n",
       "    .dataframe tbody tr th:only-of-type {\n",
       "        vertical-align: middle;\n",
       "    }\n",
       "\n",
       "    .dataframe tbody tr th {\n",
       "        vertical-align: top;\n",
       "    }\n",
       "\n",
       "    .dataframe thead th {\n",
       "        text-align: right;\n",
       "    }\n",
       "</style>\n",
       "<table border=\"1\" class=\"dataframe\">\n",
       "  <thead>\n",
       "    <tr style=\"text-align: right;\">\n",
       "      <th>property_type</th>\n",
       "      <th>mat pho</th>\n",
       "      <th>trong ngo</th>\n",
       "    </tr>\n",
       "    <tr>\n",
       "      <th>land_certificate</th>\n",
       "      <th></th>\n",
       "      <th></th>\n",
       "    </tr>\n",
       "  </thead>\n",
       "  <tbody>\n",
       "    <tr>\n",
       "      <th>Khong so do</th>\n",
       "      <td>108</td>\n",
       "      <td>194</td>\n",
       "    </tr>\n",
       "    <tr>\n",
       "      <th>So do</th>\n",
       "      <td>114</td>\n",
       "      <td>255</td>\n",
       "    </tr>\n",
       "  </tbody>\n",
       "</table>\n",
       "</div>"
      ],
      "text/plain": [
       "property_type     mat pho  trong ngo\n",
       "land_certificate                    \n",
       "Khong so do           108        194\n",
       "So do                 114        255"
      ]
     },
     "execution_count": 40,
     "metadata": {},
     "output_type": "execute_result"
    }
   ],
   "source": [
    "contigency= pd.crosstab(df3['land_certificate'], df3['property_type'])\n",
    "contigency"
   ]
  },
  {
   "cell_type": "code",
   "execution_count": 42,
   "id": "f1705f79",
   "metadata": {},
   "outputs": [
    {
     "name": "stdout",
     "output_type": "stream",
     "text": [
      "0.21106331497658834\n"
     ]
    }
   ],
   "source": [
    "c, p, dof, expected = chi2_contingency(contigency)\n",
    "\n",
    "print(p)"
   ]
  },
  {
   "cell_type": "markdown",
   "id": "14b6c71d",
   "metadata": {},
   "source": [
    "Kết luận: Do P >0.05, chấp nhận giả thuyết H0"
   ]
  },
  {
   "cell_type": "markdown",
   "id": "fbe3602c",
   "metadata": {},
   "source": [
    "4. Mối tương quan giá đơn vị- ordinal với tọa độ"
   ]
  },
  {
   "cell_type": "code",
   "execution_count": 54,
   "id": "1f62d666",
   "metadata": {},
   "outputs": [
    {
     "name": "stderr",
     "output_type": "stream",
     "text": [
      "/tmp/ipykernel_38223/3922554829.py:3: SettingWithCopyWarning: \n",
      "A value is trying to be set on a copy of a slice from a DataFrame.\n",
      "Try using .loc[row_indexer,col_indexer] = value instead\n",
      "\n",
      "See the caveats in the documentation: https://pandas.pydata.org/pandas-docs/stable/user_guide/indexing.html#returning-a-view-versus-a-copy\n",
      "  df4['Unit_price']=df['price']/df['area']\n",
      "/tmp/ipykernel_38223/3922554829.py:16: SettingWithCopyWarning: \n",
      "A value is trying to be set on a copy of a slice from a DataFrame.\n",
      "Try using .loc[row_indexer,col_indexer] = value instead\n",
      "\n",
      "See the caveats in the documentation: https://pandas.pydata.org/pandas-docs/stable/user_guide/indexing.html#returning-a-view-versus-a-copy\n",
      "  df4['Unitprice_ordinal'] = np.select(condition, values,default=4)\n"
     ]
    },
    {
     "data": {
      "text/html": [
       "<div>\n",
       "<style scoped>\n",
       "    .dataframe tbody tr th:only-of-type {\n",
       "        vertical-align: middle;\n",
       "    }\n",
       "\n",
       "    .dataframe tbody tr th {\n",
       "        vertical-align: top;\n",
       "    }\n",
       "\n",
       "    .dataframe thead th {\n",
       "        text-align: right;\n",
       "    }\n",
       "</style>\n",
       "<table border=\"1\" class=\"dataframe\">\n",
       "  <thead>\n",
       "    <tr style=\"text-align: right;\">\n",
       "      <th></th>\n",
       "      <th>area</th>\n",
       "      <th>price</th>\n",
       "      <th>postDate</th>\n",
       "      <th>land_certificate</th>\n",
       "      <th>house_direction</th>\n",
       "      <th>balcony_direction</th>\n",
       "      <th>toilet</th>\n",
       "      <th>bedroom</th>\n",
       "      <th>floor</th>\n",
       "      <th>lat</th>\n",
       "      <th>long</th>\n",
       "      <th>property_type</th>\n",
       "      <th>Unit_price</th>\n",
       "      <th>Unitprice_ordinal</th>\n",
       "    </tr>\n",
       "  </thead>\n",
       "  <tbody>\n",
       "    <tr>\n",
       "      <th>0</th>\n",
       "      <td>50.0</td>\n",
       "      <td>14700.0</td>\n",
       "      <td>44197</td>\n",
       "      <td>So do</td>\n",
       "      <td>NaN</td>\n",
       "      <td>NaN</td>\n",
       "      <td>4.0</td>\n",
       "      <td>6.0</td>\n",
       "      <td>6.0</td>\n",
       "      <td>21.015698</td>\n",
       "      <td>105.824583</td>\n",
       "      <td>trong ngo</td>\n",
       "      <td>294.000000</td>\n",
       "      <td>4</td>\n",
       "    </tr>\n",
       "    <tr>\n",
       "      <th>1</th>\n",
       "      <td>57.0</td>\n",
       "      <td>4200.0</td>\n",
       "      <td>44265</td>\n",
       "      <td>So do</td>\n",
       "      <td>Nam</td>\n",
       "      <td>Nam</td>\n",
       "      <td>3.0</td>\n",
       "      <td>8.0</td>\n",
       "      <td>4.0</td>\n",
       "      <td>21.025208</td>\n",
       "      <td>105.833111</td>\n",
       "      <td>trong ngo</td>\n",
       "      <td>73.684211</td>\n",
       "      <td>1</td>\n",
       "    </tr>\n",
       "    <tr>\n",
       "      <th>2</th>\n",
       "      <td>62.0</td>\n",
       "      <td>11000.0</td>\n",
       "      <td>44268</td>\n",
       "      <td>So do</td>\n",
       "      <td>NaN</td>\n",
       "      <td>dong-Nam</td>\n",
       "      <td>6.0</td>\n",
       "      <td>5.0</td>\n",
       "      <td>6.0</td>\n",
       "      <td>21.025379</td>\n",
       "      <td>105.801011</td>\n",
       "      <td>trong ngo</td>\n",
       "      <td>177.419355</td>\n",
       "      <td>3</td>\n",
       "    </tr>\n",
       "    <tr>\n",
       "      <th>3</th>\n",
       "      <td>26.0</td>\n",
       "      <td>2900.0</td>\n",
       "      <td>44292</td>\n",
       "      <td>So do</td>\n",
       "      <td>NaN</td>\n",
       "      <td>NaN</td>\n",
       "      <td>4.0</td>\n",
       "      <td>3.0</td>\n",
       "      <td>4.0</td>\n",
       "      <td>21.014325</td>\n",
       "      <td>105.834918</td>\n",
       "      <td>trong ngo</td>\n",
       "      <td>111.538462</td>\n",
       "      <td>2</td>\n",
       "    </tr>\n",
       "    <tr>\n",
       "      <th>4</th>\n",
       "      <td>40.0</td>\n",
       "      <td>3950.0</td>\n",
       "      <td>44292</td>\n",
       "      <td>So do</td>\n",
       "      <td>NaN</td>\n",
       "      <td>NaN</td>\n",
       "      <td>NaN</td>\n",
       "      <td>NaN</td>\n",
       "      <td>5.0</td>\n",
       "      <td>21.009862</td>\n",
       "      <td>105.838083</td>\n",
       "      <td>trong ngo</td>\n",
       "      <td>98.750000</td>\n",
       "      <td>1</td>\n",
       "    </tr>\n",
       "  </tbody>\n",
       "</table>\n",
       "</div>"
      ],
      "text/plain": [
       "   area    price  postDate land_certificate house_direction balcony_direction  \\\n",
       "0  50.0  14700.0     44197            So do             NaN               NaN   \n",
       "1  57.0   4200.0     44265            So do             Nam               Nam   \n",
       "2  62.0  11000.0     44268            So do             NaN          dong-Nam   \n",
       "3  26.0   2900.0     44292            So do             NaN               NaN   \n",
       "4  40.0   3950.0     44292            So do             NaN               NaN   \n",
       "\n",
       "   toilet  bedroom  floor        lat        long property_type  Unit_price  \\\n",
       "0     4.0      6.0    6.0  21.015698  105.824583     trong ngo  294.000000   \n",
       "1     3.0      8.0    4.0  21.025208  105.833111     trong ngo   73.684211   \n",
       "2     6.0      5.0    6.0  21.025379  105.801011     trong ngo  177.419355   \n",
       "3     4.0      3.0    4.0  21.014325  105.834918     trong ngo  111.538462   \n",
       "4     NaN      NaN    5.0  21.009862  105.838083     trong ngo   98.750000   \n",
       "\n",
       "   Unitprice_ordinal  \n",
       "0                  4  \n",
       "1                  1  \n",
       "2                  3  \n",
       "3                  2  \n",
       "4                  1  "
      ]
     },
     "execution_count": 54,
     "metadata": {},
     "output_type": "execute_result"
    }
   ],
   "source": [
    "df4 = df.dropna(subset=['area','price'])\n",
    "\n",
    "df4['Unit_price']=df['price']/df['area'] \n",
    "\n",
    "q1 = df4.Unit_price.quantile(0.25)\n",
    "\n",
    "q2 = df4.Unit_price.quantile(0.5)\n",
    "\n",
    "q3 =df4.Unit_price.quantile(0.75)\n",
    "\n",
    "\n",
    "condition = [df4.Unit_price < q1, df4.Unit_price<q2,df4.Unit_price < q3]\n",
    "\n",
    "values = [1,2,3]\n",
    "\n",
    "df4['Unitprice_ordinal'] = np.select(condition, values,default=4)\n",
    "\n",
    "\n",
    "df4.head()"
   ]
  },
  {
   "cell_type": "markdown",
   "id": "1513d48d",
   "metadata": {},
   "source": [
    "Phát biếu giả thuyết:\n",
    "+ H0: Giữa unit_price_ordinal và lat không có mối tương quan \n",
    "+ H1: Giữa unit_price_ordinal và lat có mối tương quan"
   ]
  },
  {
   "cell_type": "code",
   "execution_count": 56,
   "id": "dc828173",
   "metadata": {},
   "outputs": [
    {
     "name": "stdout",
     "output_type": "stream",
     "text": [
      "r: 0.016726353923742526; p_value = 0.6788849673606929\n"
     ]
    }
   ],
   "source": [
    "r, p_value =stats.spearmanr(df4.lat,df4.Unitprice_ordinal)\n",
    "\n",
    "print(f'r: {r}; p_value = {p_value}')\n"
   ]
  },
  {
   "cell_type": "markdown",
   "id": "e338a3a4",
   "metadata": {},
   "source": [
    "Kết luận: Với P >0.05 vì vậy chấp nhận giả thuyết H0"
   ]
  },
  {
   "cell_type": "code",
   "execution_count": null,
   "id": "df679f7a",
   "metadata": {},
   "outputs": [],
   "source": []
  }
 ],
 "metadata": {
  "kernelspec": {
   "display_name": "Python 3 (ipykernel)",
   "language": "python",
   "name": "python3"
  },
  "language_info": {
   "codemirror_mode": {
    "name": "ipython",
    "version": 3
   },
   "file_extension": ".py",
   "mimetype": "text/x-python",
   "name": "python",
   "nbconvert_exporter": "python",
   "pygments_lexer": "ipython3",
   "version": "3.9.12"
  }
 },
 "nbformat": 4,
 "nbformat_minor": 5
}
