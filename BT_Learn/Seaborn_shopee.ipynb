{
 "cells": [
  {
   "cell_type": "code",
   "execution_count": 3,
   "id": "9ceeb1a7",
   "metadata": {},
   "outputs": [
    {
     "name": "stdout",
     "output_type": "stream",
     "text": [
      "<class 'pandas.core.frame.DataFrame'>\n",
      "RangeIndex: 746 entries, 0 to 745\n",
      "Data columns (total 18 columns):\n",
      " #   Column              Non-Null Count  Dtype  \n",
      "---  ------              --------------  -----  \n",
      " 0   pk_shop             746 non-null    int64  \n",
      " 1   date_collected      746 non-null    object \n",
      " 2   shopid              746 non-null    int64  \n",
      " 3   name                746 non-null    object \n",
      " 4   join_month          746 non-null    object \n",
      " 5   join_day            746 non-null    int64  \n",
      " 6   join_year           746 non-null    int64  \n",
      " 7   item_count          746 non-null    int64  \n",
      " 8   follower_count      746 non-null    int64  \n",
      " 9   response_time       746 non-null    object \n",
      " 10  response_rate       746 non-null    int64  \n",
      " 11  shop_location       428 non-null    object \n",
      " 12  rating_bad          746 non-null    int64  \n",
      " 13  rating_good         746 non-null    int64  \n",
      " 14  rating_normal       746 non-null    int64  \n",
      " 15  rating_star         740 non-null    float64\n",
      " 16  is_shopee_verified  746 non-null    int64  \n",
      " 17  is_official_shop    746 non-null    int64  \n",
      "dtypes: float64(1), int64(12), object(5)\n",
      "memory usage: 105.0+ KB\n"
     ]
    }
   ],
   "source": [
    "import pandas as pd\n",
    "import seaborn as sns\n",
    "df = pd.read_csv(\"shopee.csv\", encoding = \"ISO-8859-1\")\n",
    "df.info()"
   ]
  },
  {
   "cell_type": "markdown",
   "id": "36c77594",
   "metadata": {},
   "source": [
    "1. Vẽ biểu đồ tần số gia nhập theo các năm"
   ]
  },
  {
   "cell_type": "code",
   "execution_count": 5,
   "id": "5491b94a",
   "metadata": {},
   "outputs": [
    {
     "data": {
      "text/plain": [
       "<AxesSubplot:xlabel='join_year', ylabel='count'>"
      ]
     },
     "execution_count": 5,
     "metadata": {},
     "output_type": "execute_result"
    },
    {
     "data": {
      "image/png": "[encoded data removed]",
      "text/plain": [
       "<Figure size 432x288 with 1 Axes>"
      ]
     },
     "metadata": {
      "needs_background": "light"
     },
     "output_type": "display_data"
    }
   ],
   "source": [
    "sns.countplot(x='join_year',data = df)"
   ]
  },
  {
   "cell_type": "markdown",
   "id": "6a3b250b",
   "metadata": {},
   "source": [
    "------------------------------\n",
    "2. Vẽ biểu đồ xu hướng thể hiện mối quan hệ giữa tỷ lệ phẩn hồi với số lượt khách đánh giá tốt"
   ]
  },
  {
   "cell_type": "code",
   "execution_count": 7,
   "id": "74aadaf7",
   "metadata": {},
   "outputs": [
    {
     "name": "stdout",
     "output_type": "stream",
     "text": [
      "<class 'pandas.core.frame.DataFrame'>\n",
      "RangeIndex: 746 entries, 0 to 745\n",
      "Data columns (total 18 columns):\n",
      " #   Column              Non-Null Count  Dtype  \n",
      "---  ------              --------------  -----  \n",
      " 0   pk_shop             746 non-null    int64  \n",
      " 1   date_collected      746 non-null    object \n",
      " 2   shopid              746 non-null    int64  \n",
      " 3   name                746 non-null    object \n",
      " 4   join_month          746 non-null    object \n",
      " 5   join_day            746 non-null    int64  \n",
      " 6   join_year           746 non-null    int64  \n",
      " 7   item_count          746 non-null    int64  \n",
      " 8   follower_count      746 non-null    int64  \n",
      " 9   response_time       746 non-null    object \n",
      " 10  response_rate       746 non-null    int64  \n",
      " 11  shop_location       428 non-null    object \n",
      " 12  rating_bad          746 non-null    int64  \n",
      " 13  rating_good         746 non-null    int64  \n",
      " 14  rating_normal       746 non-null    int64  \n",
      " 15  rating_star         740 non-null    float64\n",
      " 16  is_shopee_verified  746 non-null    int64  \n",
      " 17  is_official_shop    746 non-null    int64  \n",
      "dtypes: float64(1), int64(12), object(5)\n",
      "memory usage: 105.0+ KB\n"
     ]
    }
   ],
   "source": [
    "df1 = df.dropna(subset=['response_rate','rating_good'])\n",
    "df1.info()"
   ]
  },
  {
   "cell_type": "code",
   "execution_count": 8,
   "id": "be58e4c5",
   "metadata": {},
   "outputs": [
    {
     "data": {
      "text/plain": [
       "<seaborn.axisgrid.FacetGrid at 0x7fb37bab1670>"
      ]
     },
     "execution_count": 8,
     "metadata": {},
     "output_type": "execute_result"
    },
    {
     "data": {
      "image/png": "[encoded data removed]",
      "text/plain": [
       "<Figure size 360x360 with 1 Axes>"
      ]
     },
     "metadata": {
      "needs_background": "light"
     },
     "output_type": "display_data"
    }
   ],
   "source": [
    "sns.lmplot(x= 'response_rate', y = 'rating_good', data = df1)"
   ]
  },
  {
   "cell_type": "code",
   "execution_count": 9,
   "id": "8e7bd43a",
   "metadata": {},
   "outputs": [
    {
     "data": {
      "text/html": [
       "<div>\n",
       "<style scoped>\n",
       "    .dataframe tbody tr th:only-of-type {\n",
       "        vertical-align: middle;\n",
       "    }\n",
       "\n",
       "    .dataframe tbody tr th {\n",
       "        vertical-align: top;\n",
       "    }\n",
       "\n",
       "    .dataframe thead th {\n",
       "        text-align: right;\n",
       "    }\n",
       "</style>\n",
       "<table border=\"1\" class=\"dataframe\">\n",
       "  <thead>\n",
       "    <tr style=\"text-align: right;\">\n",
       "      <th></th>\n",
       "      <th>pk_shop</th>\n",
       "      <th>date_collected</th>\n",
       "      <th>shopid</th>\n",
       "      <th>name</th>\n",
       "      <th>join_month</th>\n",
       "      <th>join_day</th>\n",
       "      <th>join_year</th>\n",
       "      <th>item_count</th>\n",
       "      <th>follower_count</th>\n",
       "      <th>response_time</th>\n",
       "      <th>response_rate</th>\n",
       "      <th>shop_location</th>\n",
       "      <th>rating_bad</th>\n",
       "      <th>rating_good</th>\n",
       "      <th>rating_normal</th>\n",
       "      <th>rating_star</th>\n",
       "      <th>is_shopee_verified</th>\n",
       "      <th>is_official_shop</th>\n",
       "    </tr>\n",
       "  </thead>\n",
       "  <tbody>\n",
       "    <tr>\n",
       "      <th>0</th>\n",
       "      <td>20210613254711738</td>\n",
       "      <td>2021-06-13</td>\n",
       "      <td>254711738</td>\n",
       "      <td>hello.may.ph</td>\n",
       "      <td>April</td>\n",
       "      <td>27</td>\n",
       "      <td>2020</td>\n",
       "      <td>446</td>\n",
       "      <td>17487</td>\n",
       "      <td>10:13:55</td>\n",
       "      <td>96</td>\n",
       "      <td>NaN</td>\n",
       "      <td>181</td>\n",
       "      <td>17510</td>\n",
       "      <td>729</td>\n",
       "      <td>4.81</td>\n",
       "      <td>1</td>\n",
       "      <td>0</td>\n",
       "    </tr>\n",
       "    <tr>\n",
       "      <th>1</th>\n",
       "      <td>20210613314198143</td>\n",
       "      <td>2021-06-13</td>\n",
       "      <td>314198143</td>\n",
       "      <td>love.women.shop</td>\n",
       "      <td>September</td>\n",
       "      <td>25</td>\n",
       "      <td>2020</td>\n",
       "      <td>263</td>\n",
       "      <td>8574</td>\n",
       "      <td>10:43:05</td>\n",
       "      <td>73</td>\n",
       "      <td>San Nicolas,Metro Manila</td>\n",
       "      <td>78</td>\n",
       "      <td>2656</td>\n",
       "      <td>198</td>\n",
       "      <td>4.68</td>\n",
       "      <td>0</td>\n",
       "      <td>0</td>\n",
       "    </tr>\n",
       "    <tr>\n",
       "      <th>2</th>\n",
       "      <td>2021061310377223</td>\n",
       "      <td>2021-06-13</td>\n",
       "      <td>10377223</td>\n",
       "      <td>R&amp;O RedOrange</td>\n",
       "      <td>September</td>\n",
       "      <td>27</td>\n",
       "      <td>2016</td>\n",
       "      <td>209</td>\n",
       "      <td>660417</td>\n",
       "      <td>08:32:07</td>\n",
       "      <td>90</td>\n",
       "      <td>Pasay City,Metro Manila</td>\n",
       "      <td>4647</td>\n",
       "      <td>1071829</td>\n",
       "      <td>18073</td>\n",
       "      <td>4.91</td>\n",
       "      <td>1</td>\n",
       "      <td>0</td>\n",
       "    </tr>\n",
       "    <tr>\n",
       "      <th>3</th>\n",
       "      <td>2021061321407329</td>\n",
       "      <td>2021-06-13</td>\n",
       "      <td>21407329</td>\n",
       "      <td>patriciacai</td>\n",
       "      <td>April</td>\n",
       "      <td>30</td>\n",
       "      <td>2017</td>\n",
       "      <td>165</td>\n",
       "      <td>18787</td>\n",
       "      <td>09:10:38</td>\n",
       "      <td>94</td>\n",
       "      <td>Binondo,Metro Manila</td>\n",
       "      <td>44</td>\n",
       "      <td>18959</td>\n",
       "      <td>215</td>\n",
       "      <td>4.94</td>\n",
       "      <td>1</td>\n",
       "      <td>0</td>\n",
       "    </tr>\n",
       "    <tr>\n",
       "      <th>4</th>\n",
       "      <td>2021061311187885</td>\n",
       "      <td>2021-06-13</td>\n",
       "      <td>11187885</td>\n",
       "      <td>Little Market Manila</td>\n",
       "      <td>October</td>\n",
       "      <td>18</td>\n",
       "      <td>2016</td>\n",
       "      <td>467</td>\n",
       "      <td>67371</td>\n",
       "      <td>11:40:59</td>\n",
       "      <td>89</td>\n",
       "      <td>Caloocan City,Metro Manila</td>\n",
       "      <td>680</td>\n",
       "      <td>39252</td>\n",
       "      <td>2383</td>\n",
       "      <td>4.73</td>\n",
       "      <td>1</td>\n",
       "      <td>0</td>\n",
       "    </tr>\n",
       "  </tbody>\n",
       "</table>\n",
       "</div>"
      ],
      "text/plain": [
       "             pk_shop date_collected     shopid                  name  \\\n",
       "0  20210613254711738     2021-06-13  254711738          hello.may.ph   \n",
       "1  20210613314198143     2021-06-13  314198143       love.women.shop   \n",
       "2   2021061310377223     2021-06-13   10377223         R&O RedOrange   \n",
       "3   2021061321407329     2021-06-13   21407329           patriciacai   \n",
       "4   2021061311187885     2021-06-13   11187885  Little Market Manila   \n",
       "\n",
       "  join_month  join_day  join_year  item_count  follower_count response_time  \\\n",
       "0      April        27       2020         446           17487      10:13:55   \n",
       "1  September        25       2020         263            8574      10:43:05   \n",
       "2  September        27       2016         209          660417      08:32:07   \n",
       "3      April        30       2017         165           18787      09:10:38   \n",
       "4    October        18       2016         467           67371      11:40:59   \n",
       "\n",
       "   response_rate               shop_location  rating_bad  rating_good  \\\n",
       "0             96                         NaN         181        17510   \n",
       "1             73    San Nicolas,Metro Manila          78         2656   \n",
       "2             90     Pasay City,Metro Manila        4647      1071829   \n",
       "3             94        Binondo,Metro Manila          44        18959   \n",
       "4             89  Caloocan City,Metro Manila         680        39252   \n",
       "\n",
       "   rating_normal  rating_star  is_shopee_verified  is_official_shop  \n",
       "0            729         4.81                   1                 0  \n",
       "1            198         4.68                   0                 0  \n",
       "2          18073         4.91                   1                 0  \n",
       "3            215         4.94                   1                 0  \n",
       "4           2383         4.73                   1                 0  "
      ]
     },
     "execution_count": 9,
     "metadata": {},
     "output_type": "execute_result"
    }
   ],
   "source": [
    "df1.head()"
   ]
  },
  {
   "cell_type": "code",
   "execution_count": 11,
   "id": "06787d32",
   "metadata": {},
   "outputs": [
    {
     "data": {
      "text/plain": [
       "<seaborn.axisgrid.FacetGrid at 0x7fb37b0a5d30>"
      ]
     },
     "execution_count": 11,
     "metadata": {},
     "output_type": "execute_result"
    },
    {
     "data": {
      "image/png": "[encoded data removed]",
      "text/plain": [
       "<Figure size 360x360 with 1 Axes>"
      ]
     },
     "metadata": {
      "needs_background": "light"
     },
     "output_type": "display_data"
    }
   ],
   "source": [
    "sns.lmplot(x= 'response_rate', y = 'rating_bad', data = df1)"
   ]
  },
  {
   "cell_type": "markdown",
   "id": "47de729f",
   "metadata": {},
   "source": [
    "3. Phân bổ điểm đánh giá trung bình"
   ]
  },
  {
   "cell_type": "code",
   "execution_count": 14,
   "id": "f3ee5fb9",
   "metadata": {},
   "outputs": [
    {
     "data": {
      "text/plain": [
       "<AxesSubplot:>"
      ]
     },
     "execution_count": 14,
     "metadata": {},
     "output_type": "execute_result"
    },
    {
     "data": {
      "image/png": "[encoded data removed]",
      "text/plain": [
       "<Figure size 432x288 with 1 Axes>"
      ]
     },
     "metadata": {
      "needs_background": "light"
     },
     "output_type": "display_data"
    }
   ],
   "source": [
    "sns.violinplot(df1['rating_star'])"
   ]
  },
  {
   "cell_type": "code",
   "execution_count": 25,
   "id": "dc801fcb",
   "metadata": {},
   "outputs": [
    {
     "data": {
      "text/plain": [
       "count    740.000000\n",
       "mean       4.740811\n",
       "std        0.152888\n",
       "min        4.060000\n",
       "25%        4.640000\n",
       "50%        4.780000\n",
       "75%        4.860000\n",
       "max        5.000000\n",
       "Name: rating_star, dtype: float64"
      ]
     },
     "execution_count": 25,
     "metadata": {},
     "output_type": "execute_result"
    }
   ],
   "source": [
    "df1.describe()['rating_star']"
   ]
  },
  {
   "cell_type": "markdown",
   "id": "40b143fd",
   "metadata": {},
   "source": [
    "4. Biểu đồ tần số cửa hàng chính thức hay không"
   ]
  },
  {
   "cell_type": "code",
   "execution_count": 28,
   "id": "636be903",
   "metadata": {},
   "outputs": [
    {
     "data": {
      "text/plain": [
       "<AxesSubplot:xlabel='is_official_shop', ylabel='count'>"
      ]
     },
     "execution_count": 28,
     "metadata": {},
     "output_type": "execute_result"
    },
    {
     "data": {
      "image/png": "[encoded data removed]",
      "text/plain": [
       "<Figure size 432x288 with 1 Axes>"
      ]
     },
     "metadata": {
      "needs_background": "light"
     },
     "output_type": "display_data"
    }
   ],
   "source": [
    "sns.countplot(x='is_official_shop',hue='is_official_shop' ,data=df)"
   ]
  },
  {
   "cell_type": "markdown",
   "id": "fec1b951",
   "metadata": {},
   "source": [
    "5.Vẽ biểu đồ tần số của cửa hàng được xác thực với chưa xác thực. "
   ]
  },
  {
   "cell_type": "code",
   "execution_count": 29,
   "id": "d740438c",
   "metadata": {
    "scrolled": true
   },
   "outputs": [
    {
     "data": {
      "text/plain": [
       "<AxesSubplot:xlabel='is_shopee_verified', ylabel='count'>"
      ]
     },
     "execution_count": 29,
     "metadata": {},
     "output_type": "execute_result"
    },
    {
     "data": {
      "image/png": "[encoded data removed]",
      "text/plain": [
       "<Figure size 432x288 with 1 Axes>"
      ]
     },
     "metadata": {
      "needs_background": "light"
     },
     "output_type": "display_data"
    }
   ],
   "source": [
    "sns.countplot(x='is_shopee_verified',hue='is_shopee_verified' ,data=df)"
   ]
  }
 ],
 "metadata": {
  "kernelspec": {
   "display_name": "Python 3 (ipykernel)",
   "language": "python",
   "name": "python3"
  },
  "language_info": {
   "codemirror_mode": {
    "name": "ipython",
    "version": 3
   },
   "file_extension": ".py",
   "mimetype": "text/x-python",
   "name": "python",
   "nbconvert_exporter": "python",
   "pygments_lexer": "ipython3",
   "version": "3.9.12"
  }
 },
 "nbformat": 4,
 "nbformat_minor": 5
}
