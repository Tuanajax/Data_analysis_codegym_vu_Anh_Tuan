{
 "cells": [
  {
   "cell_type": "code",
   "execution_count": 1,
   "metadata": {},
   "outputs": [
    {
     "name": "stdout",
     "output_type": "stream",
     "text": [
      "<class 'pandas.core.frame.DataFrame'>\n",
      "RangeIndex: 125 entries, 0 to 124\n",
      "Data columns (total 3 columns):\n",
      " #   Column                 Non-Null Count  Dtype \n",
      "---  ------                 --------------  ----- \n",
      " 0   Country                125 non-null    object\n",
      " 1   Continent              125 non-null    object\n",
      " 2   GDP (millions of US$)  125 non-null    int64 \n",
      "dtypes: int64(1), object(2)\n",
      "memory usage: 3.1+ KB\n"
     ]
    }
   ],
   "source": [
    "import pandas as pd\n",
    "data = pd.read_csv('GDPlist.csv',encoding='ISO-8859-1')\n",
    "# data.info()\n",
    "data.head(125)\n",
    "data.info()\n"
   ]
  },
  {
   "cell_type": "code",
   "execution_count": 17,
   "metadata": {},
   "outputs": [
    {
     "data": {
      "text/plain": [
       "Text(0, 0.5, 'Amount of Countries')"
      ]
     },
     "execution_count": 17,
     "metadata": {},
     "output_type": "execute_result"
    },
    {
     "data": {
      "image/png": "[encoded data removed]",
      "text/plain": [
       "<Figure size 432x288 with 1 Axes>"
      ]
     },
     "metadata": {
      "needs_background": "light"
     },
     "output_type": "display_data"
    }
   ],
   "source": [
    "import matplotlib.pyplot as plt\n",
    "data_GDP= data['GDP (millions of US$)'].values\n",
    "plt.hist(data_GDP,bins=20)\n",
    "plt.title('Distribution of GDP')\n",
    "plt.xlabel('GDP')\n",
    "plt.ylabel('Amount of Countries')"
   ]
  },
  {
   "cell_type": "code",
   "execution_count": 27,
   "metadata": {},
   "outputs": [
    {
     "data": {
      "text/plain": [
       "Continent\n",
       "Africa            1820811\n",
       "Asia             24425891\n",
       "Europe           19139380\n",
       "North America    18238447\n",
       "Oceania           1662727\n",
       "South America     4141217\n",
       "Name: GDP (millions of US$), dtype: int64"
      ]
     },
     "execution_count": 27,
     "metadata": {},
     "output_type": "execute_result"
    }
   ],
   "source": [
    "# Total of GDP of entity Continent:\n",
    "data.groupby('Continent')['GDP (millions of US$)'].sum()"
   ]
  },
  {
   "cell_type": "code",
   "execution_count": 23,
   "metadata": {},
   "outputs": [
    {
     "data": {
      "text/plain": [
       "Continent\n",
       "Africa           29\n",
       "Asia             36\n",
       "Europe           37\n",
       "North America    11\n",
       "Oceania           3\n",
       "South America     9\n",
       "Name: Country, dtype: int64"
      ]
     },
     "execution_count": 23,
     "metadata": {},
     "output_type": "execute_result"
    }
   ],
   "source": [
    "data.groupby('Continent')['Country'].count()"
   ]
  },
  {
   "cell_type": "code",
   "execution_count": 29,
   "metadata": {},
   "outputs": [
    {
     "data": {
      "text/html": [
       "<div>\n",
       "<style scoped>\n",
       "    .dataframe tbody tr th:only-of-type {\n",
       "        vertical-align: middle;\n",
       "    }\n",
       "\n",
       "    .dataframe tbody tr th {\n",
       "        vertical-align: top;\n",
       "    }\n",
       "\n",
       "    .dataframe thead th {\n",
       "        text-align: right;\n",
       "    }\n",
       "</style>\n",
       "<table border=\"1\" class=\"dataframe\">\n",
       "  <thead>\n",
       "    <tr style=\"text-align: right;\">\n",
       "      <th></th>\n",
       "      <th>Country</th>\n",
       "      <th>Continent</th>\n",
       "      <th>GDP (millions of US$)</th>\n",
       "    </tr>\n",
       "  </thead>\n",
       "  <tbody>\n",
       "    <tr>\n",
       "      <th>118</th>\n",
       "      <td>United States</td>\n",
       "      <td>North America</td>\n",
       "      <td>15094025</td>\n",
       "    </tr>\n",
       "    <tr>\n",
       "      <th>23</th>\n",
       "      <td>China</td>\n",
       "      <td>Asia</td>\n",
       "      <td>7298147</td>\n",
       "    </tr>\n",
       "    <tr>\n",
       "      <th>60</th>\n",
       "      <td>Japan</td>\n",
       "      <td>Asia</td>\n",
       "      <td>5869471</td>\n",
       "    </tr>\n",
       "    <tr>\n",
       "      <th>44</th>\n",
       "      <td>Germany</td>\n",
       "      <td>Europe</td>\n",
       "      <td>3577031</td>\n",
       "    </tr>\n",
       "    <tr>\n",
       "      <th>41</th>\n",
       "      <td>France</td>\n",
       "      <td>Europe</td>\n",
       "      <td>2776324</td>\n",
       "    </tr>\n",
       "    <tr>\n",
       "      <th>15</th>\n",
       "      <td>Brazil</td>\n",
       "      <td>South America</td>\n",
       "      <td>2492908</td>\n",
       "    </tr>\n",
       "    <tr>\n",
       "      <th>117</th>\n",
       "      <td>United Kingdom</td>\n",
       "      <td>Europe</td>\n",
       "      <td>2417570</td>\n",
       "    </tr>\n",
       "    <tr>\n",
       "      <th>58</th>\n",
       "      <td>Italy</td>\n",
       "      <td>Europe</td>\n",
       "      <td>2198730</td>\n",
       "    </tr>\n",
       "    <tr>\n",
       "      <th>93</th>\n",
       "      <td>Russia</td>\n",
       "      <td>Asia</td>\n",
       "      <td>1850401</td>\n",
       "    </tr>\n",
       "    <tr>\n",
       "      <th>21</th>\n",
       "      <td>Canada</td>\n",
       "      <td>North America</td>\n",
       "      <td>1736869</td>\n",
       "    </tr>\n",
       "  </tbody>\n",
       "</table>\n",
       "</div>"
      ],
      "text/plain": [
       "             Country      Continent  GDP (millions of US$)\n",
       "118    United States  North America               15094025\n",
       "23             China           Asia                7298147\n",
       "60             Japan           Asia                5869471\n",
       "44           Germany         Europe                3577031\n",
       "41            France         Europe                2776324\n",
       "15            Brazil  South America                2492908\n",
       "117   United Kingdom         Europe                2417570\n",
       "58             Italy         Europe                2198730\n",
       "93            Russia           Asia                1850401\n",
       "21            Canada  North America                1736869"
      ]
     },
     "execution_count": 29,
     "metadata": {},
     "output_type": "execute_result"
    }
   ],
   "source": [
    "# Top 10 highest contries:\n",
    "data = data.sort_values('GDP (millions of US$)',ascending = False)\n",
    "data.head(10)"
   ]
  }
 ],
 "metadata": {
  "kernelspec": {
   "display_name": "Python 3 (ipykernel)",
   "language": "python",
   "name": "python3"
  },
  "language_info": {
   "codemirror_mode": {
    "name": "ipython",
    "version": 3
   },
   "file_extension": ".py",
   "mimetype": "text/x-python",
   "name": "python",
   "nbconvert_exporter": "python",
   "pygments_lexer": "ipython3",
   "version": "3.9.12"
  },
  "vscode": {
   "interpreter": {
    "hash": "7dd536cc89eef5c7a9b92541a5f7cb8a274fc7ce7c4588e66f683d4cac53552c"
   }
  }
 },
 "nbformat": 4,
 "nbformat_minor": 2
}
