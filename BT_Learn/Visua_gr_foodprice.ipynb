{
 "cells": [
  {
   "cell_type": "code",
   "execution_count": 2,
   "id": "c73f23d0",
   "metadata": {},
   "outputs": [
    {
     "name": "stdout",
     "output_type": "stream",
     "text": [
      "<class 'pandas.core.frame.DataFrame'>\n",
      "RangeIndex: 7381 entries, 0 to 7380\n",
      "Data columns (total 8 columns):\n",
      " #   Column       Non-Null Count  Dtype  \n",
      "---  ------       --------------  -----  \n",
      " 0   Place        7381 non-null   object \n",
      " 1   ProductId    7381 non-null   int64  \n",
      " 2   ProductName  7381 non-null   object \n",
      " 3   UmId         7381 non-null   int64  \n",
      " 4   UmName       7381 non-null   object \n",
      " 5   Month        7381 non-null   int64  \n",
      " 6   Year         7381 non-null   int64  \n",
      " 7   Price        7381 non-null   float64\n",
      "dtypes: float64(1), int64(4), object(3)\n",
      "memory usage: 461.4+ KB\n"
     ]
    }
   ],
   "source": [
    "import pandas as pd\n",
    "import matplotlib.pyplot as plt\n",
    "\n",
    "df = pd.read_csv('FoodPrice.csv')\n",
    "df.info()"
   ]
  },
  {
   "cell_type": "code",
   "execution_count": 5,
   "id": "7008b4dc",
   "metadata": {},
   "outputs": [
    {
     "name": "stdout",
     "output_type": "stream",
     "text": [
      "<class 'pandas.core.frame.DataFrame'>\n",
      "RangeIndex: 7381 entries, 0 to 7380\n",
      "Data columns (total 8 columns):\n",
      " #   Column       Non-Null Count  Dtype  \n",
      "---  ------       --------------  -----  \n",
      " 0   Place        7381 non-null   object \n",
      " 1   ProductId    7381 non-null   int64  \n",
      " 2   ProductName  7381 non-null   object \n",
      " 3   UmId         7381 non-null   int64  \n",
      " 4   UmName       7381 non-null   object \n",
      " 5   Month        7381 non-null   int64  \n",
      " 6   Year         7381 non-null   int64  \n",
      " 7   Price        7381 non-null   float64\n",
      "dtypes: float64(1), int64(4), object(3)\n",
      "memory usage: 461.4+ KB\n"
     ]
    }
   ],
   "source": [
    "df1 = df.dropna()\n",
    "df1.info()"
   ]
  },
  {
   "cell_type": "code",
   "execution_count": 7,
   "id": "f8f84019",
   "metadata": {},
   "outputs": [
    {
     "data": {
      "text/html": [
       "<div>\n",
       "<style scoped>\n",
       "    .dataframe tbody tr th:only-of-type {\n",
       "        vertical-align: middle;\n",
       "    }\n",
       "\n",
       "    .dataframe tbody tr th {\n",
       "        vertical-align: top;\n",
       "    }\n",
       "\n",
       "    .dataframe thead th {\n",
       "        text-align: right;\n",
       "    }\n",
       "</style>\n",
       "<table border=\"1\" class=\"dataframe\">\n",
       "  <thead>\n",
       "    <tr style=\"text-align: right;\">\n",
       "      <th></th>\n",
       "      <th>x</th>\n",
       "      <th>y1</th>\n",
       "      <th>y2</th>\n",
       "    </tr>\n",
       "  </thead>\n",
       "  <tbody>\n",
       "    <tr>\n",
       "      <th>0</th>\n",
       "      <td>National Average</td>\n",
       "      <td>108.5535</td>\n",
       "      <td>108.5535</td>\n",
       "    </tr>\n",
       "    <tr>\n",
       "      <th>1</th>\n",
       "      <td>Ankara</td>\n",
       "      <td>106.0534</td>\n",
       "      <td>106.0534</td>\n",
       "    </tr>\n",
       "    <tr>\n",
       "      <th>2</th>\n",
       "      <td>Istanbul</td>\n",
       "      <td>112.4568</td>\n",
       "      <td>112.4568</td>\n",
       "    </tr>\n",
       "    <tr>\n",
       "      <th>3</th>\n",
       "      <td>Izmir</td>\n",
       "      <td>109.1172</td>\n",
       "      <td>109.1172</td>\n",
       "    </tr>\n",
       "  </tbody>\n",
       "</table>\n",
       "</div>"
      ],
      "text/plain": [
       "                  x        y1        y2\n",
       "0  National Average  108.5535  108.5535\n",
       "1            Ankara  106.0534  106.0534\n",
       "2          Istanbul  112.4568  112.4568\n",
       "3             Izmir  109.1172  109.1172"
      ]
     },
     "execution_count": 7,
     "metadata": {},
     "output_type": "execute_result"
    }
   ],
   "source": [
    "df1 = df[(df['Year']==2019) & (df['Month'] == 12) \n",
    "    & (df['ProductName'] == 'Milk (powder, infant formula) - Retail')].reset_index()\n",
    "\n",
    "df2 = df[(df['Year'] == 2019) & (df['Month'] == 12) & (df['ProductName'] == 'Fuel (gas) - Retail')].reset_index()\n",
    "\n",
    "data1 = pd.DataFrame({'x': df1['Place'], 'y1': df2['Price'], 'y2': df2['Price']})\n",
    "data1.head()\n"
   ]
  },
  {
   "cell_type": "code",
   "execution_count": 8,
   "id": "b1523f61",
   "metadata": {},
   "outputs": [
    {
     "data": {
      "image/png": "[encoded data removed]",
      "text/plain": [
       "<Figure size 432x288 with 1 Axes>"
      ]
     },
     "metadata": {
      "needs_background": "light"
     },
     "output_type": "display_data"
    }
   ],
   "source": [
    "data1.plot(x='x',y =['y1','y2'],kind ='bar')\n",
    "\n",
    "plt.title('Milk and Gas Price in 12/2019', fontsize = 16, color = 'r')\n",
    "plt.xlabel('Place', fontsize = 14)\n",
    "plt.ylabel('Price', fontsize = 14)\n",
    "plt.show()\n"
   ]
  },
  {
   "cell_type": "code",
   "execution_count": 10,
   "id": "8ad36d39",
   "metadata": {},
   "outputs": [],
   "source": [
    "d = df\n",
    "d21 = d[(d['Place'] == 'National Average') & (d['Year'] == 2016) & (d['ProductName'] == 'Milk (powder, infant formula) - Retail')]\n",
    "d22 = d[(d['Place'] == 'National Average') & (d['Year'] == 2016) & (d['ProductName'] == 'Fuel (gas) - Retail')]\n",
    "d23 = d[(d['Place'] == 'National Average') & (d['Year'] == 2018) & (d['ProductName'] == 'Milk (powder, infant formula) - Retail')]\n",
    "d24 = d[(d['Place'] == 'National Average') & (d['Year'] == 2018) & (d['ProductName'] == 'Fuel (gas) - Retail')]\n",
    "d25 = d[(d['Place'] == 'National Average') & (d['Year'] == 2019) & (d['ProductName'] == 'Milk (powder, infant formula) - Retail')]\n",
    "d26 = d[(d['Place'] == 'National Average') & (d['Year'] == 2019) & (d['ProductName'] == 'Fuel (gas) - Retail')]\n",
    "\n",
    "d31 = d[(d['Place'] == 'National Average') & (d['ProductName'] == 'Fuel (gas) - Retail') & (d['Year'] == 2016)]\n",
    "d32 = d[(d['Place'] == 'National Average') & (d['ProductName'] == 'Milk (powder, infant formula) - Retail') & (d['Year'] == 2016)]\n",
    "d33 = d[(d['Place'] == 'National Average') & (d['ProductName'] == 'Fuel (gas) - Retail') & (d['Year'] == 2018)]\n",
    "d34 = d[(d['Place'] == 'National Average') & (d['ProductName'] == 'Milk (powder, infant formula) - Retail') & (d['Year'] == 2018)]\n",
    "d35 = d[(d['Place'] == 'National Average') & (d['ProductName'] == 'Fuel (gas) - Retail') & (d['Year'] == 2019)]\n",
    "d36 = d[(d['Place'] == 'National Average') & (d['ProductName'] == 'Milk (powder, infant formula) - Retail') & (d['Year'] == 2019)]"
   ]
  },
  {
   "cell_type": "code",
   "execution_count": 15,
   "id": "537fe88e",
   "metadata": {},
   "outputs": [
    {
     "data": {
      "image/png": "[encoded data removed]",
      "text/plain": [
       "<Figure size 432x288 with 6 Axes>"
      ]
     },
     "metadata": {
      "needs_background": "light"
     },
     "output_type": "display_data"
    }
   ],
   "source": [
    "\n",
    "fig, ax = plt.subplots(3, 2)\n",
    "ax[0][0].plot(d21['Month'], d21['Price'], marker = '*', label = 'Milk-2016')\n",
    "ax[0][0].plot(d22['Month'], d22['Price'], marker = 's', label = 'Gas-2016')\n",
    "ax[0][0].set_ylabel('Price')\n",
    "ax[0][0].set_xticklabels([])\n",
    "ax[0][0].set_title('2016')\n",
    "\n",
    "ax[1][0].plot(d23['Month'], d23['Price'], marker = '*', label = 'Milk-2018')\n",
    "ax[1][0].plot(d24['Month'], d24['Price'], marker = 's', label = 'Gas-2018')\n",
    "ax[1][0].set_ylabel('Price')\n",
    "ax[1][0].set_xticklabels([])\n",
    "ax[1][0].set_title('2018')\n",
    "\n",
    "ax[2][0].plot(d25['Month'], d25['Price'], marker = '*', label = 'Milk')\n",
    "ax[2][0].plot(d26['Month'], d26['Price'], marker = 's', label = 'Gas')\n",
    "ax[2][0].set_ylabel('Price')\n",
    "ax[2][0].set_xlabel('Month')\n",
    "ax[2][0].legend()\n",
    "ax[2][0].set_title('2019')\n",
    "\n",
    "ax[0][1].scatter(d31['Price'], d32['Price'])\n",
    "ax[0][1].set_title('2016')\n",
    "ax[0][1].set_ylabel('Rice')\n",
    "ax[0][1].set_xticklabels([])\n",
    "\n",
    "ax[1][1].scatter(d33['Month'], d34['Price'])\n",
    "ax[1][1].set_title('2018')\n",
    "ax[1][1].set_xticklabels([])\n",
    "\n",
    "ax[2][1].scatter(d35['Month'], d36['Price'])\n",
    "ax[2][1].set_title('2019')\n",
    "ax[2][1].set_xlabel('Gas')\n",
    "plt.show()\n"
   ]
  }
 ],
 "metadata": {
  "kernelspec": {
   "display_name": "Python 3 (ipykernel)",
   "language": "python",
   "name": "python3"
  },
  "language_info": {
   "codemirror_mode": {
    "name": "ipython",
    "version": 3
   },
   "file_extension": ".py",
   "mimetype": "text/x-python",
   "name": "python",
   "nbconvert_exporter": "python",
   "pygments_lexer": "ipython3",
   "version": "3.9.12"
  }
 },
 "nbformat": 4,
 "nbformat_minor": 5
}
