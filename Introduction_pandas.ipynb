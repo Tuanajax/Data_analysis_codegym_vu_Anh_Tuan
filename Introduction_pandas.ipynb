{
 "cells": [
  {
   "cell_type": "code",
   "execution_count": 50,
   "metadata": {},
   "outputs": [
    {
     "name": "stdout",
     "output_type": "stream",
     "text": [
      "a    0.25\n",
      "b    7.00\n",
      "c    0.50\n",
      "d    9.00\n",
      "dtype: float64\n"
     ]
    }
   ],
   "source": [
    "import pandas as pd\n",
    "import numpy as np\n",
    "data = pd.Series([0.25,7,0.5,9],index = ['a','b','c','d'])\n",
    "print(data)\n"
   ]
  },
  {
   "cell_type": "code",
   "execution_count": 51,
   "metadata": {},
   "outputs": [
    {
     "data": {
      "text/plain": [
       "0.25"
      ]
     },
     "execution_count": 51,
     "metadata": {},
     "output_type": "execute_result"
    }
   ],
   "source": [
    "data['a']"
   ]
  },
  {
   "cell_type": "code",
   "execution_count": 52,
   "metadata": {},
   "outputs": [
    {
     "name": "stdout",
     "output_type": "stream",
     "text": [
      "california        111\n",
      "New york           12\n",
      "Ha Noi        1111111\n",
      "dtype: int64\n"
     ]
    }
   ],
   "source": [
    "population_dict = {'california':111,'New york':12,'Ha Noi':1111111}\n",
    "population = pd.Series(population_dict)\n",
    "print(population)"
   ]
  },
  {
   "cell_type": "code",
   "execution_count": 53,
   "metadata": {},
   "outputs": [
    {
     "data": {
      "text/plain": [
       "california        111\n",
       "New york           12\n",
       "Ha Noi        1111111\n",
       "dtype: int64"
      ]
     },
     "execution_count": 53,
     "metadata": {},
     "output_type": "execute_result"
    }
   ],
   "source": [
    "# Slicing:\n",
    "population['california':'Ha Noi']"
   ]
  },
  {
   "cell_type": "code",
   "execution_count": 54,
   "metadata": {},
   "outputs": [
    {
     "data": {
      "text/plain": [
       "1    5\n",
       "2    5\n",
       "3    5\n",
       "dtype: int64"
      ]
     },
     "execution_count": 54,
     "metadata": {},
     "output_type": "execute_result"
    }
   ],
   "source": [
    "#  Contructing Series object\n",
    "from operator import index\n",
    "\n",
    "\n",
    "Index =[1,2,3]\n",
    "pd.Series(5,index=Index)"
   ]
  },
  {
   "cell_type": "code",
   "execution_count": 55,
   "metadata": {},
   "outputs": [
    {
     "data": {
      "text/plain": [
       "2      a\n",
       "3      c\n",
       "9    NaN\n",
       "dtype: object"
      ]
     },
     "execution_count": 55,
     "metadata": {},
     "output_type": "execute_result"
    }
   ],
   "source": [
    "pd.Series({2:\"a\",1:\"b\",3:\"c\"},index=[2,3,9])"
   ]
  },
  {
   "cell_type": "code",
   "execution_count": 56,
   "metadata": {},
   "outputs": [
    {
     "name": "stdout",
     "output_type": "stream",
     "text": [
      "            population\n",
      "california         111\n",
      "New york            12\n",
      "Ha Noi         1111111\n"
     ]
    }
   ],
   "source": [
    "# DATAFRAME OBJECT:\n",
    "# - contructin from a single Series object\n",
    "# \n",
    "array =pd.DataFrame({'population':population})\n",
    "print(array)"
   ]
  },
  {
   "cell_type": "code",
   "execution_count": 57,
   "metadata": {},
   "outputs": [
    {
     "data": {
      "text/plain": [
       "california        111\n",
       "New york           12\n",
       "Ha Noi        1111111\n",
       "Name: population, dtype: int64"
      ]
     },
     "execution_count": 57,
     "metadata": {},
     "output_type": "execute_result"
    }
   ],
   "source": [
    "array['population']"
   ]
  },
  {
   "cell_type": "code",
   "execution_count": 58,
   "metadata": {},
   "outputs": [
    {
     "data": {
      "text/html": [
       "<div>\n",
       "<style scoped>\n",
       "    .dataframe tbody tr th:only-of-type {\n",
       "        vertical-align: middle;\n",
       "    }\n",
       "\n",
       "    .dataframe tbody tr th {\n",
       "        vertical-align: top;\n",
       "    }\n",
       "\n",
       "    .dataframe thead th {\n",
       "        text-align: right;\n",
       "    }\n",
       "</style>\n",
       "<table border=\"1\" class=\"dataframe\">\n",
       "  <thead>\n",
       "    <tr style=\"text-align: right;\">\n",
       "      <th></th>\n",
       "      <th>columns</th>\n",
       "    </tr>\n",
       "  </thead>\n",
       "  <tbody>\n",
       "    <tr>\n",
       "      <th>california</th>\n",
       "      <td>111</td>\n",
       "    </tr>\n",
       "    <tr>\n",
       "      <th>New york</th>\n",
       "      <td>12</td>\n",
       "    </tr>\n",
       "    <tr>\n",
       "      <th>Ha Noi</th>\n",
       "      <td>1111111</td>\n",
       "    </tr>\n",
       "  </tbody>\n",
       "</table>\n",
       "</div>"
      ],
      "text/plain": [
       "            columns\n",
       "california      111\n",
       "New york         12\n",
       "Ha Noi      1111111"
      ]
     },
     "execution_count": 58,
     "metadata": {},
     "output_type": "execute_result"
    }
   ],
   "source": [
    "# contructin from a single Series object\n",
    "pd.DataFrame(population,columns=['columns'])"
   ]
  },
  {
   "cell_type": "code",
   "execution_count": 59,
   "metadata": {},
   "outputs": [],
   "source": [
    "# From a two -dimensional Numpy array\n",
    "# matrix = np.random.rand(3,2)\n",
    "# pd.DataFrame(matrix,columns=['c1','c2'],index=['a','b'])"
   ]
  },
  {
   "cell_type": "code",
   "execution_count": 60,
   "metadata": {},
   "outputs": [
    {
     "ename": "NameError",
     "evalue": "name 'dtype' is not defined",
     "output_type": "error",
     "traceback": [
      "\u001b[0;31m---------------------------------------------------------------------------\u001b[0m",
      "\u001b[0;31mNameError\u001b[0m                                 Traceback (most recent call last)",
      "\u001b[1;32m/home/tuanvu/DA/Introduction_pandas.ipynb Cell 11\u001b[0m in \u001b[0;36m<cell line: 2>\u001b[0;34m()\u001b[0m\n\u001b[1;32m      <a href='vscode-notebook-cell:/home/tuanvu/DA/Introduction_pandas.ipynb#X13sZmlsZQ%3D%3D?line=0'>1</a>\u001b[0m \u001b[39m# From a Numpy Structured Array\u001b[39;00m\n\u001b[0;32m----> <a href='vscode-notebook-cell:/home/tuanvu/DA/Introduction_pandas.ipynb#X13sZmlsZQ%3D%3D?line=1'>2</a>\u001b[0m a \u001b[39m=\u001b[39m np\u001b[39m.\u001b[39mzeros(\u001b[39m3\u001b[39m,dtype)\n",
      "\u001b[0;31mNameError\u001b[0m: name 'dtype' is not defined"
     ]
    }
   ],
   "source": [
    "# From a Numpy Structured Array\n",
    "a = np.zeros(3,dtype)\n"
   ]
  },
  {
   "cell_type": "code",
   "execution_count": null,
   "metadata": {},
   "outputs": [],
   "source": [
    "# Series: ['b']: explicit index( chi so tuong minh)\n",
    "# Data.Keys()\n",
    "# Extend : Series\n",
    "# masking\n",
    "# fancy indexing\n",
    "# loc ==> implicit(index)\"\", iloc==>explicit(index-data structed\n",
    "#Data selection in datafame"
   ]
  },
  {
   "cell_type": "code",
   "execution_count": null,
   "metadata": {},
   "outputs": [
    {
     "data": {
      "text/plain": [
       "array([68, 97,  5, 91, 49, 66, 84, 22, 25, 36,  8, 81, 99, 55, 24, 26, 80,\n",
       "       77, 52, 92, 46, 24, 19, 61, 90, 11, 43, 89, 24,  3, 51, 76, 44, 51,\n",
       "       71, 46, 25, 79,  5, 95, 42,  1, 52, 90, 42, 59, 47, 75, 82, 70, 61,\n",
       "       35, 86, 58, 54, 30, 23, 11, 49, 78, 16, 97, 61, 14, 30, 21, 63, 81,\n",
       "       59, 91, 93, 33,  0,  5, 65, 61, 69, 69, 90, 69, 32,  7, 84, 92, 50,\n",
       "        2, 97, 42,  4,  3, 82, 58, 45, 27,  5, 49, 59, 96, 22,  8])"
      ]
     },
     "execution_count": 2,
     "metadata": {},
     "output_type": "execute_result"
    }
   ],
   "source": [
    "import random\n",
    "import pandas as pd\n",
    "numbers = [i for i in range(100)]\n",
    "\n",
    "data = pd.Series([random.choice(numbers) for _ in range(100)])\n",
    "data.values"
   ]
  },
  {
   "cell_type": "code",
   "execution_count": null,
   "metadata": {},
   "outputs": [
    {
     "ename": "SyntaxError",
     "evalue": "invalid syntax (593168711.py, line 14)",
     "output_type": "error",
     "traceback": [
      "\u001b[0;36m  Input \u001b[0;32mIn [27]\u001b[0;36m\u001b[0m\n\u001b[0;31m    print(dict( for i in range(10): for i in range(10)))\u001b[0m\n\u001b[0m                ^\u001b[0m\n\u001b[0;31mSyntaxError\u001b[0m\u001b[0;31m:\u001b[0m invalid syntax\n"
     ]
    }
   ],
   "source": [
    "max\n",
    "max = 0\n",
    "for i in data:\n",
    "    if i > 50: max+=1\n",
    "print(max)\n",
    "max_val =0\n",
    "min_val =0\n",
    "count =0\n",
    "for i in data.values:\n",
    "    if i > 50: count+=1\n",
    "print(count)\n",
    "# for i in range(data.count()):\n",
    "# for i in list(data.index):\n",
    "# print(dict( for i in range(10): for i in range(10)))\n",
    "\n",
    "# for index, val in list(data.items()):\n",
    "# len\n",
    "# data.count()"
   ]
  },
  {
   "cell_type": "code",
   "execution_count": null,
   "metadata": {},
   "outputs": [
    {
     "name": "stdout",
     "output_type": "stream",
     "text": [
      "0\n"
     ]
    }
   ],
   "source": [
    "min =0\n",
    "for i in data:\n",
    "    if i < min: min = i\n",
    "print(min) "
   ]
  },
  {
   "cell_type": "code",
   "execution_count": null,
   "metadata": {},
   "outputs": [
    {
     "name": "stdout",
     "output_type": "stream",
     "text": [
      "54\n"
     ]
    }
   ],
   "source": [
    "Mean = data.mean()\n",
    "d = 0\n",
    "for i in data: \n",
    "    if i < Mean: d+=1\n",
    "print(d)"
   ]
  },
  {
   "cell_type": "code",
   "execution_count": null,
   "metadata": {},
   "outputs": [
    {
     "name": "stdout",
     "output_type": "stream",
     "text": [
      "46\n"
     ]
    }
   ],
   "source": [
    "Mean = data.mean()\n",
    "d = 0\n",
    "for i in data: \n",
    "    if i > Mean: d+=1\n",
    "print(d)"
   ]
  },
  {
   "cell_type": "code",
   "execution_count": null,
   "metadata": {},
   "outputs": [
    {
     "name": "stdout",
     "output_type": "stream",
     "text": [
      "{68: 1, 97: 3, 5: 4, 91: 2, 49: 3, 66: 1, 84: 2, 22: 2, 25: 2, 36: 1, 8: 2, 81: 2, 99: 1, 55: 1, 24: 3, 26: 1, 80: 1, 77: 1, 52: 2, 92: 2, 46: 2, 19: 1, 61: 4, 90: 3, 11: 2, 43: 1, 89: 1, 3: 2, 51: 2, 76: 1, 44: 1, 71: 1, 79: 1, 95: 1, 42: 3, 1: 1, 59: 3, 47: 1, 75: 1, 82: 2, 70: 1, 35: 1, 86: 1, 58: 2, 54: 1, 30: 2, 23: 1, 78: 1, 16: 1, 14: 1, 21: 1, 63: 1, 93: 1, 33: 1, 0: 1, 65: 1, 69: 3, 32: 1, 7: 1, 50: 1, 2: 1, 4: 1, 45: 1, 27: 1, 96: 1}\n"
     ]
    }
   ],
   "source": [
    "Dict={}\n",
    "for i in range(data.count()):\n",
    "    d = 0\n",
    "    for j in range(data.count()):\n",
    "        if data.loc[i] == data.loc[j]: d+=1\n",
    "        Dict[data.loc[i]] = d\n",
    "print(Dict)\n",
    "        "
   ]
  },
  {
   "cell_type": "code",
   "execution_count": null,
   "metadata": {},
   "outputs": [
    {
     "name": "stdout",
     "output_type": "stream",
     "text": [
      "<class 'pandas.core.frame.DataFrame'>\n",
      "RangeIndex: 10 entries, 0 to 9\n",
      "Data columns (total 12 columns):\n",
      " #   Column       Non-Null Count  Dtype         \n",
      "---  ------       --------------  -----         \n",
      " 0   Mã học sinh  10 non-null     int64         \n",
      " 1   Họ tên       10 non-null     object        \n",
      " 2   Ngày sinh    10 non-null     datetime64[ns]\n",
      " 3   Quê quán     10 non-null     object        \n",
      " 4   Toán         10 non-null     float64       \n",
      " 5   Lý           10 non-null     float64       \n",
      " 6   Hoá          10 non-null     float64       \n",
      " 7   Sinh         10 non-null     float64       \n",
      " 8   Văn          10 non-null     float64       \n",
      " 9   Sử           10 non-null     float64       \n",
      " 10  Địa          10 non-null     float64       \n",
      " 11  Tiếng Anh    10 non-null     float64       \n",
      "dtypes: datetime64[ns](1), float64(8), int64(1), object(2)\n",
      "memory usage: 1.1+ KB\n"
     ]
    },
    {
     "data": {
      "text/plain": [
       "(10, 12)"
      ]
     },
     "execution_count": 9,
     "metadata": {},
     "output_type": "execute_result"
    }
   ],
   "source": [
    "import pandas as pd\n",
    "df = pd.read_excel('students.xlsx')\n",
    "df.info()\n",
    "df.shape"
   ]
  },
  {
   "cell_type": "code",
   "execution_count": null,
   "metadata": {},
   "outputs": [
    {
     "data": {
      "text/plain": [
       "Quê quán\n",
       "Bắc Ninh      2\n",
       "Hà Nam        1\n",
       "Hà Nội        4\n",
       "Nam Định      1\n",
       "Quảng Bình    1\n",
       "Thái Bình     1\n",
       "Name: Mã học sinh, dtype: int64"
      ]
     },
     "execution_count": 11,
     "metadata": {},
     "output_type": "execute_result"
    }
   ],
   "source": [
    "df.groupby('Quê quán')['Mã học sinh'].count()"
   ]
  },
  {
   "cell_type": "markdown",
   "metadata": {},
   "source": []
  },
  {
   "cell_type": "code",
   "execution_count": 61,
   "metadata": {},
   "outputs": [
    {
     "data": {
      "text/html": [
       "<div>\n",
       "<style scoped>\n",
       "    .dataframe tbody tr th:only-of-type {\n",
       "        vertical-align: middle;\n",
       "    }\n",
       "\n",
       "    .dataframe tbody tr th {\n",
       "        vertical-align: top;\n",
       "    }\n",
       "\n",
       "    .dataframe thead th {\n",
       "        text-align: right;\n",
       "    }\n",
       "</style>\n",
       "<table border=\"1\" class=\"dataframe\">\n",
       "  <thead>\n",
       "    <tr style=\"text-align: right;\">\n",
       "      <th></th>\n",
       "      <th>Mã học sinh</th>\n",
       "      <th>Toán</th>\n",
       "      <th>Lý</th>\n",
       "      <th>Hoá</th>\n",
       "      <th>Sinh</th>\n",
       "      <th>Văn</th>\n",
       "      <th>Sử</th>\n",
       "      <th>Địa</th>\n",
       "      <th>Tiếng Anh</th>\n",
       "    </tr>\n",
       "  </thead>\n",
       "  <tbody>\n",
       "    <tr>\n",
       "      <th>count</th>\n",
       "      <td>1.000000e+01</td>\n",
       "      <td>10.000000</td>\n",
       "      <td>10.000000</td>\n",
       "      <td>10.000000</td>\n",
       "      <td>10.000000</td>\n",
       "      <td>10.000000</td>\n",
       "      <td>10.000000</td>\n",
       "      <td>10.000000</td>\n",
       "      <td>10.000000</td>\n",
       "    </tr>\n",
       "    <tr>\n",
       "      <th>mean</th>\n",
       "      <td>2.020521e+07</td>\n",
       "      <td>6.910000</td>\n",
       "      <td>7.080000</td>\n",
       "      <td>6.920000</td>\n",
       "      <td>6.180000</td>\n",
       "      <td>6.310000</td>\n",
       "      <td>5.750000</td>\n",
       "      <td>6.440000</td>\n",
       "      <td>6.510000</td>\n",
       "    </tr>\n",
       "    <tr>\n",
       "      <th>std</th>\n",
       "      <td>3.027650e+00</td>\n",
       "      <td>1.481328</td>\n",
       "      <td>1.015218</td>\n",
       "      <td>1.180207</td>\n",
       "      <td>1.966836</td>\n",
       "      <td>1.323673</td>\n",
       "      <td>2.147996</td>\n",
       "      <td>1.992319</td>\n",
       "      <td>1.674946</td>\n",
       "    </tr>\n",
       "    <tr>\n",
       "      <th>min</th>\n",
       "      <td>2.020521e+07</td>\n",
       "      <td>4.200000</td>\n",
       "      <td>5.600000</td>\n",
       "      <td>5.400000</td>\n",
       "      <td>2.000000</td>\n",
       "      <td>4.000000</td>\n",
       "      <td>2.000000</td>\n",
       "      <td>3.400000</td>\n",
       "      <td>3.800000</td>\n",
       "    </tr>\n",
       "    <tr>\n",
       "      <th>25%</th>\n",
       "      <td>2.020521e+07</td>\n",
       "      <td>5.875000</td>\n",
       "      <td>6.575000</td>\n",
       "      <td>6.100000</td>\n",
       "      <td>5.250000</td>\n",
       "      <td>5.500000</td>\n",
       "      <td>4.525000</td>\n",
       "      <td>5.000000</td>\n",
       "      <td>5.500000</td>\n",
       "    </tr>\n",
       "    <tr>\n",
       "      <th>50%</th>\n",
       "      <td>2.020521e+07</td>\n",
       "      <td>7.000000</td>\n",
       "      <td>7.000000</td>\n",
       "      <td>6.750000</td>\n",
       "      <td>6.650000</td>\n",
       "      <td>6.500000</td>\n",
       "      <td>5.700000</td>\n",
       "      <td>6.300000</td>\n",
       "      <td>6.250000</td>\n",
       "    </tr>\n",
       "    <tr>\n",
       "      <th>75%</th>\n",
       "      <td>2.020522e+07</td>\n",
       "      <td>7.875000</td>\n",
       "      <td>7.625000</td>\n",
       "      <td>7.450000</td>\n",
       "      <td>7.000000</td>\n",
       "      <td>6.925000</td>\n",
       "      <td>7.250000</td>\n",
       "      <td>7.950000</td>\n",
       "      <td>7.750000</td>\n",
       "    </tr>\n",
       "    <tr>\n",
       "      <th>max</th>\n",
       "      <td>2.020522e+07</td>\n",
       "      <td>9.300000</td>\n",
       "      <td>9.000000</td>\n",
       "      <td>8.800000</td>\n",
       "      <td>9.000000</td>\n",
       "      <td>8.500000</td>\n",
       "      <td>9.200000</td>\n",
       "      <td>9.500000</td>\n",
       "      <td>9.000000</td>\n",
       "    </tr>\n",
       "  </tbody>\n",
       "</table>\n",
       "</div>"
      ],
      "text/plain": [
       "        Mã học sinh       Toán         Lý        Hoá       Sinh        Văn  \\\n",
       "count  1.000000e+01  10.000000  10.000000  10.000000  10.000000  10.000000   \n",
       "mean   2.020521e+07   6.910000   7.080000   6.920000   6.180000   6.310000   \n",
       "std    3.027650e+00   1.481328   1.015218   1.180207   1.966836   1.323673   \n",
       "min    2.020521e+07   4.200000   5.600000   5.400000   2.000000   4.000000   \n",
       "25%    2.020521e+07   5.875000   6.575000   6.100000   5.250000   5.500000   \n",
       "50%    2.020521e+07   7.000000   7.000000   6.750000   6.650000   6.500000   \n",
       "75%    2.020522e+07   7.875000   7.625000   7.450000   7.000000   6.925000   \n",
       "max    2.020522e+07   9.300000   9.000000   8.800000   9.000000   8.500000   \n",
       "\n",
       "             Sử         Địa  Tiếng Anh  \n",
       "count  10.000000  10.000000  10.000000  \n",
       "mean    5.750000   6.440000   6.510000  \n",
       "std     2.147996   1.992319   1.674946  \n",
       "min     2.000000   3.400000   3.800000  \n",
       "25%     4.525000   5.000000   5.500000  \n",
       "50%     5.700000   6.300000   6.250000  \n",
       "75%     7.250000   7.950000   7.750000  \n",
       "max     9.200000   9.500000   9.000000  "
      ]
     },
     "execution_count": 61,
     "metadata": {},
     "output_type": "execute_result"
    }
   ],
   "source": [
    "# df_tempo = df.add()\n",
    "df.describe()"
   ]
  },
  {
   "cell_type": "code",
   "execution_count": 202,
   "metadata": {},
   "outputs": [
    {
     "name": "stdout",
     "output_type": "stream",
     "text": [
      "     Province  Num_of_Stus\n",
      "0      Hà Nội            4\n",
      "1  Quảng Bình            1\n",
      "2      Hà Nam            1\n",
      "3    Bắc Ninh            2\n",
      "4   Thái Bình            1\n",
      "5    Nam Định            1\n"
     ]
    }
   ],
   "source": [
    "# Number of student in each provice:\n",
    "List_prov=list(df[\"Quê quán\"])\n",
    "Dict_prov={}\n",
    "for i in List_prov:\n",
    "    if i in Dict_prov:\n",
    "        Dict_prov[i]+=1\n",
    "    else: Dict_prov[i]=1\n",
    "print(pd.DataFrame(list(Dict_prov.items()),columns=['Province','Num_of_Stus']))\n"
   ]
  },
  {
   "cell_type": "code",
   "execution_count": null,
   "metadata": {},
   "outputs": [],
   "source": [
    "def sort_(bool):\n",
    "    "
   ]
  }
 ],
 "metadata": {
  "kernelspec": {
   "display_name": "Python 3.9.12 ('base')",
   "language": "python",
   "name": "python3"
  },
  "language_info": {
   "codemirror_mode": {
    "name": "ipython",
    "version": 3
   },
   "file_extension": ".py",
   "mimetype": "text/x-python",
   "name": "python",
   "nbconvert_exporter": "python",
   "pygments_lexer": "ipython3",
   "version": "3.9.12"
  },
  "orig_nbformat": 4,
  "vscode": {
   "interpreter": {
    "hash": "7dd536cc89eef5c7a9b92541a5f7cb8a274fc7ce7c4588e66f683d4cac53552c"
   }
  }
 },
 "nbformat": 4,
 "nbformat_minor": 2
}
