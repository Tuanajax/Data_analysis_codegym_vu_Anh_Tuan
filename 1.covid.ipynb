{
 "cells": [
  {
   "cell_type": "code",
   "execution_count": 37,
   "id": "ba2b7557",
   "metadata": {},
   "outputs": [],
   "source": [
    "import pandas as pd\n",
    "data = pd.read_csv('subset-covid-data.csv',encoding='UTF-8')\n",
    "# print(data.head)\n"
   ]
  },
  {
   "cell_type": "code",
   "execution_count": 38,
   "id": "e6ee476a",
   "metadata": {},
   "outputs": [
    {
     "name": "stdout",
     "output_type": "stream",
     "text": [
      "<class 'pandas.core.frame.DataFrame'>\n",
      "RangeIndex: 206 entries, 0 to 205\n",
      "Data columns (total 10 columns):\n",
      " #   Column        Non-Null Count  Dtype  \n",
      "---  ------        --------------  -----  \n",
      " 0   country       206 non-null    object \n",
      " 1   continent     206 non-null    object \n",
      " 2   date          206 non-null    object \n",
      " 3   day           206 non-null    int64  \n",
      " 4   month         206 non-null    int64  \n",
      " 5   year          206 non-null    int64  \n",
      " 6   cases         206 non-null    int64  \n",
      " 7   deaths        206 non-null    int64  \n",
      " 8   country_code  202 non-null    object \n",
      " 9   population    202 non-null    float64\n",
      "dtypes: float64(1), int64(5), object(4)\n",
      "memory usage: 16.2+ KB\n"
     ]
    }
   ],
   "source": [
    "data.info()"
   ]
  },
  {
   "cell_type": "code",
   "execution_count": 39,
   "id": "37faa9e7",
   "metadata": {},
   "outputs": [
    {
     "data": {
      "text/plain": [
       "2020-04-12    204\n",
       "2020-01-18      1\n",
       "2020-04-11      1\n",
       "Name: date, dtype: int64"
      ]
     },
     "execution_count": 39,
     "metadata": {},
     "output_type": "execute_result"
    }
   ],
   "source": [
    "data.date.value_counts()"
   ]
  },
  {
   "cell_type": "code",
   "execution_count": 40,
   "id": "108f4efe",
   "metadata": {},
   "outputs": [],
   "source": [
    "# Filtering outlier data\n",
    "cleaned_data =data[data.date=='2020-04-12']"
   ]
  },
  {
   "cell_type": "code",
   "execution_count": 41,
   "id": "2d276ceb",
   "metadata": {},
   "outputs": [
    {
     "name": "stdout",
     "output_type": "stream",
     "text": [
      "Mean of new cases:376.8186274509804\n",
      "Median of new cases:11.5\n"
     ]
    },
    {
     "data": {
      "text/plain": [
       "Text(0, 0.5, 'amount of countries')"
      ]
     },
     "execution_count": 41,
     "metadata": {},
     "output_type": "execute_result"
    },
    {
     "data": {
      "image/png": "[encoded data removed]",
      "text/plain": [
       "<Figure size 432x288 with 1 Axes>"
      ]
     },
     "metadata": {
      "needs_background": "light"
     },
     "output_type": "display_data"
    }
   ],
   "source": [
    "# Drawing graph\n",
    "print(f'Mean of new cases:{cleaned_data.cases.mean()}')\n",
    "print(f'Median of new cases:{cleaned_data.cases.median()}')\n",
    "import matplotlib.pyplot as plt\n",
    "plt.hist(cleaned_data.cases,bins=200)\n",
    "plt.title('Distribution of new cases')\n",
    "plt.xlabel('new cases')\n",
    "plt.ylabel('amount of countries')"
   ]
  },
  {
   "cell_type": "code",
   "execution_count": 42,
   "id": "a78abffa",
   "metadata": {},
   "outputs": [
    {
     "name": "stdout",
     "output_type": "stream",
     "text": [
      "Total of cases and case of each other continent:\n"
     ]
    },
    {
     "name": "stderr",
     "output_type": "stream",
     "text": [
      "/tmp/ipykernel_8002/3157501251.py:3: FutureWarning: Indexing with multiple keys (implicitly converted to a tuple of keys) will be deprecated, use a list instead.\n",
      "  cleaned_data.groupby('continent')['cases','deaths'].sum()\n"
     ]
    },
    {
     "data": {
      "text/html": [
       "<div>\n",
       "<style scoped>\n",
       "    .dataframe tbody tr th:only-of-type {\n",
       "        vertical-align: middle;\n",
       "    }\n",
       "\n",
       "    .dataframe tbody tr th {\n",
       "        vertical-align: top;\n",
       "    }\n",
       "\n",
       "    .dataframe thead th {\n",
       "        text-align: right;\n",
       "    }\n",
       "</style>\n",
       "<table border=\"1\" class=\"dataframe\">\n",
       "  <thead>\n",
       "    <tr style=\"text-align: right;\">\n",
       "      <th></th>\n",
       "      <th>cases</th>\n",
       "      <th>deaths</th>\n",
       "    </tr>\n",
       "    <tr>\n",
       "      <th>continent</th>\n",
       "      <th></th>\n",
       "      <th></th>\n",
       "    </tr>\n",
       "  </thead>\n",
       "  <tbody>\n",
       "    <tr>\n",
       "      <th>Africa</th>\n",
       "      <td>714</td>\n",
       "      <td>52</td>\n",
       "    </tr>\n",
       "    <tr>\n",
       "      <th>America</th>\n",
       "      <td>33519</td>\n",
       "      <td>2111</td>\n",
       "    </tr>\n",
       "    <tr>\n",
       "      <th>Asia</th>\n",
       "      <td>12979</td>\n",
       "      <td>383</td>\n",
       "    </tr>\n",
       "    <tr>\n",
       "      <th>Europe</th>\n",
       "      <td>29591</td>\n",
       "      <td>2966</td>\n",
       "    </tr>\n",
       "    <tr>\n",
       "      <th>Oceania</th>\n",
       "      <td>68</td>\n",
       "      <td>4</td>\n",
       "    </tr>\n",
       "  </tbody>\n",
       "</table>\n",
       "</div>"
      ],
      "text/plain": [
       "           cases  deaths\n",
       "continent               \n",
       "Africa       714      52\n",
       "America    33519    2111\n",
       "Asia       12979     383\n",
       "Europe     29591    2966\n",
       "Oceania       68       4"
      ]
     },
     "execution_count": 42,
     "metadata": {},
     "output_type": "execute_result"
    }
   ],
   "source": [
    "# Total of cases of continent:\n",
    "print('Total of cases and case of each other continent:')\n",
    "cleaned_data.groupby('continent')['cases','deaths'].sum()"
   ]
  },
  {
   "cell_type": "code",
   "execution_count": 45,
   "id": "87e00471",
   "metadata": {},
   "outputs": [
    {
     "name": "stdout",
     "output_type": "stream",
     "text": [
      "Top the 5 - highest cases country:\n"
     ]
    },
    {
     "data": {
      "text/html": [
       "<div>\n",
       "<style scoped>\n",
       "    .dataframe tbody tr th:only-of-type {\n",
       "        vertical-align: middle;\n",
       "    }\n",
       "\n",
       "    .dataframe tbody tr th {\n",
       "        vertical-align: top;\n",
       "    }\n",
       "\n",
       "    .dataframe thead th {\n",
       "        text-align: right;\n",
       "    }\n",
       "</style>\n",
       "<table border=\"1\" class=\"dataframe\">\n",
       "  <thead>\n",
       "    <tr style=\"text-align: right;\">\n",
       "      <th></th>\n",
       "      <th>country</th>\n",
       "      <th>continent</th>\n",
       "      <th>date</th>\n",
       "      <th>day</th>\n",
       "      <th>month</th>\n",
       "      <th>year</th>\n",
       "      <th>cases</th>\n",
       "      <th>deaths</th>\n",
       "      <th>country_code</th>\n",
       "      <th>population</th>\n",
       "    </tr>\n",
       "  </thead>\n",
       "  <tbody>\n",
       "    <tr>\n",
       "      <th>198</th>\n",
       "      <td>United_States_of_America</td>\n",
       "      <td>America</td>\n",
       "      <td>2020-04-12</td>\n",
       "      <td>12</td>\n",
       "      <td>4</td>\n",
       "      <td>2020</td>\n",
       "      <td>28391</td>\n",
       "      <td>1831</td>\n",
       "      <td>USA</td>\n",
       "      <td>327167434.0</td>\n",
       "    </tr>\n",
       "    <tr>\n",
       "      <th>195</th>\n",
       "      <td>United_Kingdom</td>\n",
       "      <td>Europe</td>\n",
       "      <td>2020-04-12</td>\n",
       "      <td>12</td>\n",
       "      <td>4</td>\n",
       "      <td>2020</td>\n",
       "      <td>8719</td>\n",
       "      <td>839</td>\n",
       "      <td>GBR</td>\n",
       "      <td>66488991.0</td>\n",
       "    </tr>\n",
       "    <tr>\n",
       "      <th>190</th>\n",
       "      <td>Turkey</td>\n",
       "      <td>Asia</td>\n",
       "      <td>2020-04-12</td>\n",
       "      <td>12</td>\n",
       "      <td>4</td>\n",
       "      <td>2020</td>\n",
       "      <td>5138</td>\n",
       "      <td>95</td>\n",
       "      <td>TUR</td>\n",
       "      <td>82319724.0</td>\n",
       "    </tr>\n",
       "    <tr>\n",
       "      <th>98</th>\n",
       "      <td>Italy</td>\n",
       "      <td>Europe</td>\n",
       "      <td>2020-04-12</td>\n",
       "      <td>12</td>\n",
       "      <td>4</td>\n",
       "      <td>2020</td>\n",
       "      <td>4694</td>\n",
       "      <td>619</td>\n",
       "      <td>ITA</td>\n",
       "      <td>60431283.0</td>\n",
       "    </tr>\n",
       "    <tr>\n",
       "      <th>177</th>\n",
       "      <td>Spain</td>\n",
       "      <td>Europe</td>\n",
       "      <td>2020-04-11</td>\n",
       "      <td>11</td>\n",
       "      <td>4</td>\n",
       "      <td>2020</td>\n",
       "      <td>4550</td>\n",
       "      <td>605</td>\n",
       "      <td>ESP</td>\n",
       "      <td>46723749.0</td>\n",
       "    </tr>\n",
       "  </tbody>\n",
       "</table>\n",
       "</div>"
      ],
      "text/plain": [
       "                      country continent        date  day  month  year  cases  \\\n",
       "198  United_States_of_America   America  2020-04-12   12      4  2020  28391   \n",
       "195            United_Kingdom    Europe  2020-04-12   12      4  2020   8719   \n",
       "190                    Turkey      Asia  2020-04-12   12      4  2020   5138   \n",
       "98                      Italy    Europe  2020-04-12   12      4  2020   4694   \n",
       "177                     Spain    Europe  2020-04-11   11      4  2020   4550   \n",
       "\n",
       "     deaths country_code   population  \n",
       "198    1831          USA  327167434.0  \n",
       "195     839          GBR   66488991.0  \n",
       "190      95          TUR   82319724.0  \n",
       "98      619          ITA   60431283.0  \n",
       "177     605          ESP   46723749.0  "
      ]
     },
     "execution_count": 45,
     "metadata": {},
     "output_type": "execute_result"
    }
   ],
   "source": [
    "def top (field_):\n",
    "    global data\n",
    "    print(f'Top the 5 - highest {field_} country:')\n",
    "    data = data.sort_values(field_,ascending = False)\n",
    "    return data.head(5)\n",
    "\n",
    "top('cases')"
   ]
  },
  {
   "cell_type": "code",
   "execution_count": 44,
   "id": "e973d836",
   "metadata": {
    "tags": []
   },
   "outputs": [
    {
     "name": "stdout",
     "output_type": "stream",
     "text": [
      "Top the 5 - highest deaths country:\n"
     ]
    },
    {
     "data": {
      "text/html": [
       "<div>\n",
       "<style scoped>\n",
       "    .dataframe tbody tr th:only-of-type {\n",
       "        vertical-align: middle;\n",
       "    }\n",
       "\n",
       "    .dataframe tbody tr th {\n",
       "        vertical-align: top;\n",
       "    }\n",
       "\n",
       "    .dataframe thead th {\n",
       "        text-align: right;\n",
       "    }\n",
       "</style>\n",
       "<table border=\"1\" class=\"dataframe\">\n",
       "  <thead>\n",
       "    <tr style=\"text-align: right;\">\n",
       "      <th></th>\n",
       "      <th>country</th>\n",
       "      <th>continent</th>\n",
       "      <th>date</th>\n",
       "      <th>day</th>\n",
       "      <th>month</th>\n",
       "      <th>year</th>\n",
       "      <th>cases</th>\n",
       "      <th>deaths</th>\n",
       "      <th>country_code</th>\n",
       "      <th>population</th>\n",
       "    </tr>\n",
       "  </thead>\n",
       "  <tbody>\n",
       "    <tr>\n",
       "      <th>198</th>\n",
       "      <td>United_States_of_America</td>\n",
       "      <td>America</td>\n",
       "      <td>2020-04-12</td>\n",
       "      <td>12</td>\n",
       "      <td>4</td>\n",
       "      <td>2020</td>\n",
       "      <td>28391</td>\n",
       "      <td>1831</td>\n",
       "      <td>USA</td>\n",
       "      <td>327167434.0</td>\n",
       "    </tr>\n",
       "    <tr>\n",
       "      <th>195</th>\n",
       "      <td>United_Kingdom</td>\n",
       "      <td>Europe</td>\n",
       "      <td>2020-04-12</td>\n",
       "      <td>12</td>\n",
       "      <td>4</td>\n",
       "      <td>2020</td>\n",
       "      <td>8719</td>\n",
       "      <td>839</td>\n",
       "      <td>GBR</td>\n",
       "      <td>66488991.0</td>\n",
       "    </tr>\n",
       "    <tr>\n",
       "      <th>69</th>\n",
       "      <td>France</td>\n",
       "      <td>Europe</td>\n",
       "      <td>2020-04-12</td>\n",
       "      <td>12</td>\n",
       "      <td>4</td>\n",
       "      <td>2020</td>\n",
       "      <td>3114</td>\n",
       "      <td>635</td>\n",
       "      <td>FRA</td>\n",
       "      <td>66987244.0</td>\n",
       "    </tr>\n",
       "    <tr>\n",
       "      <th>98</th>\n",
       "      <td>Italy</td>\n",
       "      <td>Europe</td>\n",
       "      <td>2020-04-12</td>\n",
       "      <td>12</td>\n",
       "      <td>4</td>\n",
       "      <td>2020</td>\n",
       "      <td>4694</td>\n",
       "      <td>619</td>\n",
       "      <td>ITA</td>\n",
       "      <td>60431283.0</td>\n",
       "    </tr>\n",
       "    <tr>\n",
       "      <th>177</th>\n",
       "      <td>Spain</td>\n",
       "      <td>Europe</td>\n",
       "      <td>2020-04-11</td>\n",
       "      <td>11</td>\n",
       "      <td>4</td>\n",
       "      <td>2020</td>\n",
       "      <td>4550</td>\n",
       "      <td>605</td>\n",
       "      <td>ESP</td>\n",
       "      <td>46723749.0</td>\n",
       "    </tr>\n",
       "  </tbody>\n",
       "</table>\n",
       "</div>"
      ],
      "text/plain": [
       "                      country continent        date  day  month  year  cases  \\\n",
       "198  United_States_of_America   America  2020-04-12   12      4  2020  28391   \n",
       "195            United_Kingdom    Europe  2020-04-12   12      4  2020   8719   \n",
       "69                     France    Europe  2020-04-12   12      4  2020   3114   \n",
       "98                      Italy    Europe  2020-04-12   12      4  2020   4694   \n",
       "177                     Spain    Europe  2020-04-11   11      4  2020   4550   \n",
       "\n",
       "     deaths country_code   population  \n",
       "198    1831          USA  327167434.0  \n",
       "195     839          GBR   66488991.0  \n",
       "69      635          FRA   66987244.0  \n",
       "98      619          ITA   60431283.0  \n",
       "177     605          ESP   46723749.0  "
      ]
     },
     "execution_count": 44,
     "metadata": {},
     "output_type": "execute_result"
    }
   ],
   "source": [
    "\n",
    "top('deaths')"
   ]
  }
 ],
 "metadata": {
  "kernelspec": {
   "display_name": "Python 3.9.12 ('base')",
   "language": "python",
   "name": "python3"
  },
  "language_info": {
   "codemirror_mode": {
    "name": "ipython",
    "version": 3
   },
   "file_extension": ".py",
   "mimetype": "text/x-python",
   "name": "python",
   "nbconvert_exporter": "python",
   "pygments_lexer": "ipython3",
   "version": "3.9.12"
  },
  "vscode": {
   "interpreter": {
    "hash": "7dd536cc89eef5c7a9b92541a5f7cb8a274fc7ce7c4588e66f683d4cac53552c"
   }
  }
 },
 "nbformat": 4,
 "nbformat_minor": 5
}
