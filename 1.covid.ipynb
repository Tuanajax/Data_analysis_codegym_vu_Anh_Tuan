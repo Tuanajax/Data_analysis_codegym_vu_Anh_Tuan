{
 "cells": [
  {
   "cell_type": "code",
   "execution_count": 1,
   "id": "ba2b7557",
   "metadata": {},
   "outputs": [
    {
     "name": "stdout",
     "output_type": "stream",
     "text": [
      "<bound method NDFrame.head of          country continent        date  day  month  year  cases  deaths  \\\n",
      "0    Afghanistan      Asia  2020-04-12   12      4  2020     34       3   \n",
      "1        Albania    Europe  2020-04-12   12      4  2020     17       0   \n",
      "2        Algeria    Africa  2020-04-12   12      4  2020     64      19   \n",
      "3        Andorra    Europe  2020-04-12   12      4  2020     21       2   \n",
      "4         Angola    Africa  2020-04-12   12      4  2020      0       0   \n",
      "..           ...       ...         ...  ...    ...   ...    ...     ...   \n",
      "201    Venezuela   America  2020-04-12   12      4  2020      0       0   \n",
      "202      Vietnam      Asia  2020-04-12   12      4  2020      4       0   \n",
      "203        Yemen      Asia  2020-04-12   12      4  2020      0       0   \n",
      "204       Zambia    Africa  2020-04-12   12      4  2020      0       0   \n",
      "205     Zimbabwe    Africa  2020-04-12   12      4  2020      3       0   \n",
      "\n",
      "    country_code  population  \n",
      "0            AFG  37172386.0  \n",
      "1            ALB   2866376.0  \n",
      "2            DZA  42228429.0  \n",
      "3            AND     77006.0  \n",
      "4            AGO  30809762.0  \n",
      "..           ...         ...  \n",
      "201          VEN  28870195.0  \n",
      "202          VNM  95540395.0  \n",
      "203          YEM  28498687.0  \n",
      "204          ZMB  17351822.0  \n",
      "205          ZWE  14439018.0  \n",
      "\n",
      "[206 rows x 10 columns]>\n",
      "<class 'pandas.core.frame.DataFrame'>\n",
      "RangeIndex: 206 entries, 0 to 205\n",
      "Data columns (total 10 columns):\n",
      " #   Column        Non-Null Count  Dtype  \n",
      "---  ------        --------------  -----  \n",
      " 0   country       206 non-null    object \n",
      " 1   continent     206 non-null    object \n",
      " 2   date          206 non-null    object \n",
      " 3   day           206 non-null    int64  \n",
      " 4   month         206 non-null    int64  \n",
      " 5   year          206 non-null    int64  \n",
      " 6   cases         206 non-null    int64  \n",
      " 7   deaths        206 non-null    int64  \n",
      " 8   country_code  202 non-null    object \n",
      " 9   population    202 non-null    float64\n",
      "dtypes: float64(1), int64(5), object(4)\n",
      "memory usage: 16.2+ KB\n"
     ]
    }
   ],
   "source": [
    "import pandas as pd\n",
    "data = pd.read_csv('subset-covid-data.csv',encoding='UTF-8')\n",
    "print(data.head)\n",
    "data.info()"
   ]
  }
 ],
 "metadata": {
  "kernelspec": {
   "display_name": "Python 3 (ipykernel)",
   "language": "python",
   "name": "python3"
  },
  "language_info": {
   "codemirror_mode": {
    "name": "ipython",
    "version": 3
   },
   "file_extension": ".py",
   "mimetype": "text/x-python",
   "name": "python",
   "nbconvert_exporter": "python",
   "pygments_lexer": "ipython3",
   "version": "3.9.12"
  }
 },
 "nbformat": 4,
 "nbformat_minor": 5
}
